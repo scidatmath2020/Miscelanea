{
 "cells": [
  {
   "cell_type": "markdown",
   "id": "865f72c7-8c1a-4bb2-886a-a4f590da18c2",
   "metadata": {},
   "source": [
    "![imagenes](logo.png)"
   ]
  },
  {
   "cell_type": "markdown",
   "id": "dd434f3c-e90b-4957-aaa9-c2a83a136d55",
   "metadata": {},
   "source": [
    "# Instalaciones importantes\n",
    "\n",
    "A lo largo de todos los cursos, diplomado y talleres de SciData utilizaremos varios softwares relacionados con Python, R, Excel y SQL. En esta sección hablaremos de las instalaciones importantes."
   ]
  },
  {
   "cell_type": "markdown",
   "id": "c413b862-0496-4927-a8db-61a11c36d5da",
   "metadata": {},
   "source": [
    "## Python\n",
    "\n",
    "Para Python, tenemos dos opciones:\n",
    "\n",
    "- **Instalar Anaconda**. Es la manera habitual de trabajo.  Se trata de una distribución de software libre que incluye Python y R junto con una gran colección de paquetes científicos y herramientas para el análisis de datos, machine learning y computación científica.\n",
    "  \n",
    "- **Trabajar en línea sin instalar nada**. Se trata de Google Colab, que es una versión de Anaconda que se puede trabajar totalmente en línea sin tener que instalar nada en tu equipo. El único requisito que se te pide es que tengas una cuenta de gmail.\n",
    "\n",
    "Toma en cuenta que de las dos opciones, siempre damos prioridad a la primera.\n",
    "\n",
    "### Instalación de Jupyter\n",
    "\n",
    "Antes de ver el video de instalación, **muy importante:** solo realiza los pasos del video hasta el 1:27 minutos. En ese video dejan marcada la opción de \"launch\" antes de dar finalizar. **Tú desmarca dicha casilla, de modo que ninguna de las dos casillas quede marcada, y ahora sí haz clic en ``Finalizar``**.\n",
    "\n",
    "Toma en cuenta también que esta instalación, aunque sencilla, puede ser tardada (entre 15 y 30 minutos). \n",
    "\n",
    "En https://www.youtube.com/watch?v=YzOLOlH1jQk&ab_channel=C%C3%B3digoEspinoza-Autom%C3%A1tizatuVida hemos encontrado un tutorial muy simple de la instalación. \n",
    "\n",
    "**Prueba de instalación**\n",
    "\n",
    "Vamos a comprobar que hayas instalado correctamente el sistema.\n",
    "\n",
    "### Paso 1. \n",
    "Dirígete a tu buscador local. En Windows 10 es el siguiente:\n",
    "\n",
    "![imagenes](im001.png)"
   ]
  },
  {
   "cell_type": "markdown",
   "id": "228345d0-a082-4ecd-ac9b-bdc0a571b0f4",
   "metadata": {},
   "source": [
    "### Paso 2. \n",
    "Teclea **Jupyter** y observa lo siguiente. No es necesario que hagas clic.\n",
    "\n",
    "<img src=\"im002.png\" alt=\"imagenes\" width=\"500\">"
   ]
  },
  {
   "cell_type": "markdown",
   "id": "640da750-f15c-44d2-b3bb-daa56ee937ac",
   "metadata": {},
   "source": [
    "### Paso 3. \n",
    "Ahora, en lugar de teclear Jupyter, teclea Spyder. Ahora sí, dale clic y entra en Spyder\n",
    "   \n",
    "<img src=\"im003.png\" alt=\"imagenes\" width=\"500\">"
   ]
  },
  {
   "cell_type": "markdown",
   "id": "77e07be4-879f-4391-ae55-bec422a79ee5",
   "metadata": {},
   "source": [
    "### Paso 4.\n",
    "Te deberá aparecer algo parecido a esto.\n",
    "\n",
    "<img src=\"im004.png\" alt=\"imagenes\" width=\"500\">"
   ]
  },
  {
   "cell_type": "markdown",
   "id": "19ec2166-cad1-40ff-8509-4b3153f1f479",
   "metadata": {},
   "source": [
    "### Paso 5. \n",
    "Observa el símbolo a la derecha a mitad de la imagen: ``In [1]``\n",
    "\n",
    "Justo a la derecha de tal símbolo, haz clic. Te deberá aparecer una barra vertical parpadeando. Teclea ``print(\"Hola mundo\")``. A continuación, en el siguiente renglón aparecerá la frase **Hola mundo**.\n",
    "\n",
    "Si esto te aparece, es porque has instalado correctamente Spyder. Puedes cerrar el programa de manera usual dando clic en el símbolo ❌ de la esquina superior derecha como usualmente se hace con cualquier programa."
   ]
  },
  {
   "cell_type": "markdown",
   "id": "b07407a7-90fa-4fb8-b596-f1f70dd28b7a",
   "metadata": {},
   "source": [
    "## R y Rstudio\n",
    "\n",
    "Para instalar R y Rstudio es bastante más sencillo. Solamente sigue este sencillo tutorial: \n",
    "\n",
    "https://www.youtube.com/watch?v=hbgzW3Cvda4&ab_channel=HerbertLizama"
   ]
  },
  {
   "cell_type": "markdown",
   "id": "29fc1ac1-ea78-43bf-bf66-5ef41b5861d0",
   "metadata": {},
   "source": [
    "## SQL\n",
    "\n",
    "Para instalar SQL sigue los pasos que indicamos en este tutorial: \n",
    "\n",
    "https://github.com/scidatmath2020/AABD-2024/blob/main/C00_Instalacion/C00.%20Instalacion_de_Pgadmin.ipynb"
   ]
  }
 ],
 "metadata": {
  "kernelspec": {
   "display_name": "Python [conda env:base] *",
   "language": "python",
   "name": "conda-base-py"
  },
  "language_info": {
   "codemirror_mode": {
    "name": "ipython",
    "version": 3
   },
   "file_extension": ".py",
   "mimetype": "text/x-python",
   "name": "python",
   "nbconvert_exporter": "python",
   "pygments_lexer": "ipython3",
   "version": "3.12.3"
  }
 },
 "nbformat": 4,
 "nbformat_minor": 5
}
