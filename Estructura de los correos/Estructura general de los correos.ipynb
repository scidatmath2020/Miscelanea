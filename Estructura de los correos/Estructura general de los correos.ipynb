{
 "cells": [
  {
   "cell_type": "markdown",
   "id": "b86fffc3",
   "metadata": {},
   "source": [
    "![imagenes](logo.png)"
   ]
  },
  {
   "cell_type": "markdown",
   "id": "d6171c00",
   "metadata": {},
   "source": [
    "# Estructura general de los correos diarios\n",
    "\n",
    "En esta sección vamos a describir las partes de cada uno de los correos que enviamos diariamente.\n",
    "\n",
    "Lo primero que hay que decir es que manejamos cinco correos diferentes para cuestiones administrativas. Es muy importante que revises regularmente tu carpeta de spam o papelera para asegurarte de que estás recibiendo nuestros correos de información. Estos son\n",
    "- scidata.math@gmail.com\n",
    "- scidata.math.informes@gmail.com\n",
    "- scidata.math.generales@gmail.com\n",
    "- scidata.math.datos@gmail.com\n",
    "- generales@scidata.com.mx"
   ]
  },
  {
   "cell_type": "markdown",
   "id": "720e03bf",
   "metadata": {},
   "source": [
    "## Saludo\n",
    "\n",
    "La primera parte del correo siempre es un saludo a tu nombre, indicando el curso/diplomado/taller al que estás inscrito:\n",
    "\n",
    "![imagenes](im001.png)"
   ]
  },
  {
   "cell_type": "markdown",
   "id": "2d192605",
   "metadata": {},
   "source": [
    "## Redes sociales\n",
    "\n",
    "A continuación aparecen nuestras redes sociales. Para mantener una comunición más eficaz no olvides:\n",
    "\n",
    "- **Seguir** y darle **me gusta** a nuestra página principal: https://www.facebook.com/scidata.math\n",
    "- **Suscribirte** a nuestra página de YouTube para recibir los tutoriales y videos gratis que paulatinamente publicamos: https://www.youtube.com/@scidatamath5558/videos\n",
    "- **Unirte** a nuestro foro de consultas, que es por donde puedes publicar tus dudas y tus tareas: https://www.facebook.com/groups/2476414855808297\n",
    "\n",
    "![imagenes](im002.png)\n"
   ]
  },
  {
   "cell_type": "markdown",
   "id": "42ac9b80",
   "metadata": {},
   "source": [
    "## Video de instalación del programa principal del curso\n",
    "\n",
    "La siguiente parte es el video de instalación, usualmente llamado Sesión 00, donde se indica cómo instalar los lenguajes y programas necesarios para trabajar. **Este video y los programas a instalar pueden variar dependiendo del curso/diplomado/taller que estés tomando.**\n",
    "\n",
    "![imagenes](im003.png)\n"
   ]
  },
  {
   "cell_type": "markdown",
   "id": "e355cba2",
   "metadata": {},
   "source": [
    "## Videos de las sesiones\n",
    "\n",
    "A continuación, aparece una de las partes más importantes del correo. Cada día, en el correo que recibas, aparecerá el enlace al video de la clase del día así como los videos de las sesiones anteriores, así como la descripción de lo hecho en la sesión.\n",
    "\n",
    "![imagenes](im004.png)"
   ]
  },
  {
   "cell_type": "markdown",
   "id": "fb49f0d4",
   "metadata": {},
   "source": [
    "## Tareas\n",
    "\n",
    "Seguido de los videos diarios, hallarás el apartado de las tareas. Estas no son diarias, de modo que siempre es importante revisar en esta sección si hay tarea nueva o no.\n",
    "\n",
    "![imagenes](im005.png)"
   ]
  },
  {
   "cell_type": "markdown",
   "id": "2c1fd238",
   "metadata": {},
   "source": [
    "## Enlace para la siguiente sesión\n",
    "\n",
    "Luego de las tareas, encontrarás la segunda parte más importante del correo: **el enlace de GoTo para la siguiente sesión**.\n",
    "\n",
    "Este enlace cambia sesión a sesión, de modo que nunca se repiten.\n",
    "\n",
    "![imagenes](im006.png)"
   ]
  },
  {
   "cell_type": "markdown",
   "id": "659adfc1",
   "metadata": {},
   "source": [
    "## Indicaciones generales\n",
    "\n",
    "Ahora se te presentarán las indicaciones generales para cada sesión. Básicamente es el horario de atención y el comportamiento dentro del aula virtual.\n",
    "\n",
    "![imagenes](im007.png)"
   ]
  },
  {
   "cell_type": "markdown",
   "id": "4e5321ae",
   "metadata": {},
   "source": [
    "## Correos de contacto\n",
    "\n",
    "Finalmente, se te indican los correos **administrativos** de SciData.\n",
    "\n",
    "![imagenes](im008.png)"
   ]
  }
 ],
 "metadata": {
  "kernelspec": {
   "display_name": "Python 3 (ipykernel)",
   "language": "python",
   "name": "python3"
  },
  "language_info": {
   "codemirror_mode": {
    "name": "ipython",
    "version": 3
   },
   "file_extension": ".py",
   "mimetype": "text/x-python",
   "name": "python",
   "nbconvert_exporter": "python",
   "pygments_lexer": "ipython3",
   "version": "3.11.4"
  }
 },
 "nbformat": 4,
 "nbformat_minor": 5
}
