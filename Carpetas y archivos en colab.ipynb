{
 "cells": [
  {
   "cell_type": "markdown",
   "id": "0f41fa02",
   "metadata": {},
   "source": [
    "<img src=\"logo.png\">"
   ]
  },
  {
   "cell_type": "markdown",
   "id": "c833cc8c",
   "metadata": {},
   "source": [
    "Veamos cómo crear nuevas carpetas y subir o leer archivos con Colab"
   ]
  },
  {
   "cell_type": "markdown",
   "id": "a50326b2",
   "metadata": {},
   "source": [
    "## Crear carpeta\n",
    "\n",
    "Para crear una nueva carpeta en Google Colab, puedes usar el siguiente comando de Python:\n",
    "\n",
    "```python\n",
    "import os\n",
    "\n",
    "# Especifica el nombre de la carpeta que quieres crear\n",
    "carpeta = \"nombre_de_la_carpeta\"\n",
    "\n",
    "# Crea la carpeta\n",
    "os.makedirs(carpeta, exist_ok=True)\n",
    "```\n",
    "\n",
    "Este comando creará una carpeta en el directorio actual donde estás trabajando. \n",
    "Si ya existe una carpeta con el mismo nombre, el parámetro exist_ok=True evitará que se produzca un error.\n",
    "\n",
    "Si quieres crear la carpeta dentro de otra subcarpeta o en una ubicación específica, solo necesitas especificar la ruta relativa o absoluta. Por ejemplo:\n",
    "\n",
    "```python\n",
    "# Crear una carpeta dentro de otra carpeta\n",
    "os.makedirs(\"otra_carpeta/nombre_de_la_carpeta\", exist_ok=True)\n",
    "```\n",
    "\n",
    "También puedes ver y administrar las carpetas y archivos en el panel lateral izquierdo de Google Colab, bajo la sección de \"Archivos\".\n",
    "\n"
   ]
  },
  {
   "cell_type": "markdown",
   "id": "8b511e5a",
   "metadata": {},
   "source": [
    "## Subir archivos\n",
    "\n",
    "1. Subir archivos directamente desde tu computadora\n",
    "Puedes subir archivos directamente desde tu computadora al entorno de Google Colab. Para hacerlo, sigue estos pasos:\n",
    "\n",
    "```python\n",
    "from google.colab import files\n",
    "\n",
    "# Esto abrirá un cuadro de diálogo para seleccionar el archivo desde tu computadora\n",
    "uploaded = files.upload()\n",
    "\n",
    "# Una vez subido, puedes leer el archivo CSV con pandas\n",
    "import pandas as pd\n",
    "df = pd.read_csv(\"nombre_del_archivo.csv\")\n",
    "```\n",
    "\n",
    "2. Montar Google Drive\n",
    "Si tienes el archivo CSV en tu Google Drive, puedes montar tu Google Drive en Colab y acceder al archivo desde allí:\n",
    "\n",
    "```python\n",
    "from google.colab import drive\n",
    "\n",
    "# Montar Google Drive\n",
    "drive.mount('/content/drive')\n",
    "\n",
    "# Leer el archivo CSV desde Google Drive\n",
    "import pandas as pd\n",
    "df = pd.read_csv('/content/drive/My Drive/ruta/al/archivo.csv')\n",
    "```"
   ]
  }
 ],
 "metadata": {
  "kernelspec": {
   "display_name": "Python 3 (ipykernel)",
   "language": "python",
   "name": "python3"
  },
  "language_info": {
   "codemirror_mode": {
    "name": "ipython",
    "version": 3
   },
   "file_extension": ".py",
   "mimetype": "text/x-python",
   "name": "python",
   "nbconvert_exporter": "python",
   "pygments_lexer": "ipython3",
   "version": "3.11.4"
  }
 },
 "nbformat": 4,
 "nbformat_minor": 5
}
