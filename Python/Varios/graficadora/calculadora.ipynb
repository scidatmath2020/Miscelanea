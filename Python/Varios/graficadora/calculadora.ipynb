{
 "cells": [
  {
   "cell_type": "markdown",
   "id": "82a93962",
   "metadata": {},
   "source": [
    "![imagenes](logo.png)"
   ]
  },
  {
   "cell_type": "code",
   "execution_count": null,
   "id": "68ddaabc",
   "metadata": {},
   "outputs": [],
   "source": [
    "'''En \n",
    "https://github.com/scidatmath2020/Miscelanea/blob/main/Python/Varios/Instalacion_siuba_plotnine/INSTALACION_SIUBA_PLOTNINE.ipynb\n",
    "está cómo instalar siuba y plotnine'''\n",
    "\n",
    "#!pip install siuba\n",
    "#!pip install plotnine\n",
    "\n",
    "import pandas as pd\n",
    "import numpy as np\n",
    "from siuba import *\n",
    "from plotnine import *"
   ]
  },
  {
   "cell_type": "code",
   "execution_count": null,
   "id": "c1e541ea",
   "metadata": {},
   "outputs": [],
   "source": [
    "y_func = lambda x,t: np.sin(t*x)/x\n",
    "y_limit = lambda t: y_func(0.0000000001,t)\n",
    "\n",
    "x_valores = np.linspace(-2*np.pi, 2*np.pi,400)\n",
    "t_valores = [1,2,3]"
   ]
  },
  {
   "cell_type": "code",
   "execution_count": null,
   "id": "497dacbc",
   "metadata": {},
   "outputs": [],
   "source": [
    "resultados = [pd.DataFrame({\"abscisas\":x_valores,\n",
    "               \"valores\":y_func(x_valores,t),\n",
    "               \"t\":len(x_valores)*[f\"{t}\"]}) for t in t_valores]\n",
    "\n",
    "resultados = pd.concat(resultados)\n",
    "\n",
    "limites = pd.DataFrame({\"abscisas\":3*[0],\n",
    " \"valores\":[y_limit(t) for t in t_valores],\n",
    " \"t\":[f\"{t}\" for t in t_valores]}) >> mutate(desplazamiento=_.valores+0.1,\n",
    "                                             texto=[r'$\\lim_{{x \\to 0}} \\frac{{\\sin(x)}}{{x}}=1$',\n",
    "                                                    r'$\\lim_{{x \\to 0}} \\frac{{\\sin(2x)}}{{x}}=2$',\n",
    "                                                    r'$\\lim_{{x \\to 0}} \\frac{{\\sin(3x)}}{{x}}=3$'])\n",
    "\n",
    "etiquetas_x = pd.DataFrame({\"x_valores\":[-2*np.pi,-np.pi,0,np.pi,2*np.pi],\"texto\":[u\"-2π\",u\"-π\",\"0\",u\"π\",u\"2π\"]})\n",
    "\n",
    "y_ticks = np.arange(-1,3.5,0.5)\n",
    "\n",
    "etiquetas_y = pd.DataFrame({\"y_valores\":y_ticks,\"texto\":y_ticks})"
   ]
  },
  {
   "cell_type": "code",
   "execution_count": null,
   "id": "cbbce33b",
   "metadata": {},
   "outputs": [],
   "source": [
    "(\n",
    "ggplot() + \n",
    "    geom_line(data=resultados,mapping=aes(x=\"abscisas\",y=\"valores\",color=\"t\")) +\n",
    "    geom_point(data=limites,mapping=aes(x=\"abscisas\",y=\"valores\",color=\"t\")) +\n",
    "    ggtitle(title=\"Gráfica de y=sin(tx)/x para diferentes valores de t\\ncon el límite en x=0\") +\n",
    "    annotate(\"text\",x=[2.5,2.5,2.5],y=limites.desplazamiento, label=limites.texto, size=12)+\n",
    "    geom_segment(data=limites,mapping=aes(x=[1.2,1.2,1.2],y=\"desplazamiento\",xend=0.2,yend=\"valores\"),arrow=arrow(4),size=1) +\n",
    "    geom_text(data=etiquetas_x,mapping=aes(x=[k*np.pi for k in range(-2,3)],y=-0.4,label=\"texto\")) +\n",
    "    geom_segment(data = etiquetas_x, mapping = aes(x = \"x_valores\", y = 0, xend = \"x_valores\", yend = -0.2), color = \"black\") +\n",
    "    geom_text(data=etiquetas_y,mapping=aes(x=-0.7,y=\"y_valores\",label=\"texto\")) +\n",
    "    geom_segment(data = etiquetas_y, mapping = aes(x = 0, y = \"y_valores\", xend = -0.2, yend = \"y_valores\"), color = \"black\") +\n",
    "    geom_segment(aes(x = -float('inf'), y = 0, xend = float('inf'), yend = 0), color = \"black\") +  # Eje X\n",
    "    geom_segment(aes(x = 0, y = -float('inf'), xend = 0, yend = float('inf')), color = \"black\") +\n",
    "    scale_color_manual(values=[\"#377699\",\"#E69C46\",\"#679765\"]) +\n",
    "    scale_x_continuous(breaks=None,labels=None) +\n",
    "    scale_y_continuous(breaks=None,labels=None) +\n",
    "    theme(axis_title_x=element_blank(), axis_title_y=element_blank(),panel_background = element_rect(\"white\"))    \n",
    ")"
   ]
  }
 ],
 "metadata": {
  "kernelspec": {
   "display_name": "Python 3 (ipykernel)",
   "language": "python",
   "name": "python3"
  },
  "language_info": {
   "codemirror_mode": {
    "name": "ipython",
    "version": 3
   },
   "file_extension": ".py",
   "mimetype": "text/x-python",
   "name": "python",
   "nbconvert_exporter": "python",
   "pygments_lexer": "ipython3",
   "version": "3.11.4"
  }
 },
 "nbformat": 4,
 "nbformat_minor": 5
}
