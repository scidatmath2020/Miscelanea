{
 "cells": [
  {
   "cell_type": "markdown",
   "metadata": {},
   "source": [
    "<img src=\"logo.png\">"
   ]
  },
  {
   "cell_type": "markdown",
   "metadata": {},
   "source": [
    "# Instalación de siuba y plotnine"
   ]
  },
  {
   "cell_type": "markdown",
   "metadata": {},
   "source": [
    "Veremos ahora cómo instalar siuba y plotnine en tu ordenador. La recomendación es que los instales tanto en **Jupyter** como en **Spyder**."
   ]
  },
  {
   "cell_type": "markdown",
   "metadata": {},
   "source": [
    "## Instalación en Jupyter\n",
    "\n",
    "Para instalar en Jupyter, realizarás los siguientes pasos.\n",
    "\n",
    "Instala **siuba**. Para ello, escribe y ejecuta en una celda de Jupyter el código siguiente:\n",
    "\n",
    "``!pip install siuba``\n",
    "\n",
    "Luego reinicia el kernel de Jupyter. Para reiniciarlo, ve a la pestaña Kernel y elige la opción \"Restart & clear output\" La siguiente imagen te debe ayudar: \n",
    "\n",
    "<img src=\"siuba00.png\">\n",
    "\n",
    "Sabrás que el kernel se reinició cuando en la pestaña del navegador te aparezca este símbolo parecido a una libreta (cuando Jupyter está procesando algo, aparece un reloj de arena, el cual desaparece cuando deja de procesar): \n",
    "<img src=\"siuba02.png\">\n",
    "\n",
    "Una vez que el kernel se reinicie, cierra y vuelve a abrir Jupyter. Ya que lo hayas reiniciado, escribe el siguiente código y ejecútalo:\n",
    "\n",
    "<img src=\"siuba09.png\">\n",
    "\n",
    "Si todo está bien instalado, deberás tener el siguiente resultado\n",
    "\n",
    "<img src=\"siuba01.png\">"
   ]
  },
  {
   "cell_type": "markdown",
   "metadata": {},
   "source": [
    "Si obtuviste el resultado anterior, entonces instalaste bien **siuba**. Si te marca algún error, envíame captura de pantalla del código que escribiste y del error que obtuviste. Pero recuerda: debiste hacer ``!pip install siuba``, luego reiniciar el kernel, luego cerrar Jupyter y abrirlo de nuevo, y luego ejectuar el código de la imagen anterior.\n",
    "\n",
    "Vamos ahora con **plotnine**.\n",
    "\n",
    "Copia, pega y ejecuta en Jupyter el siguiente código:\n",
    "\n",
    "``\n",
    "!pip install plotnine\n",
    "``\n",
    "\n",
    "Ahora, nuevamente reinicia el kernel, cierra Jupyter y abre Jupyter de nuevo. Una vez hecho esto, escribe el siguiente código y ejecútalo:\n",
    "\n",
    "<img src=\"siuba10.png\">\n",
    "\n",
    "Si **plotnine** está bien instalado, deberás obtener la siguiente imagen:\n",
    "\n",
    "<img src=\"siuba03.png\">\n",
    "\n",
    "Nuevamente, si te marca algún error, envíame captura de pantalla del código que escribiste y del error que obtuviste. Pero recuerda: debiste hacer ``!pip install plotnine``, luego reiniciar el kernel, luego cerrar Jupyter y abrirlo de nuevo, y luego ejectuar el código de la imagen anterior."
   ]
  },
  {
   "cell_type": "markdown",
   "metadata": {},
   "source": [
    "## Instalación en Spyder\n",
    "\n",
    "Vamos a instalar **siuba** en Spyder. El proceso es prácticamente el mismo que en Jupyter, pero no te confíes. Recuerda que cuando instalamos paquetes en Spyder **no hacemos uso del símbolo !** y el reinicio de kernel es más especial.\n",
    "\n",
    "Entonces, escribe y ejecuta **en la consola de Spyder** lo siguiente:\n",
    "\n",
    "``\n",
    "pip install siuba\n",
    "``\n",
    "\n",
    "Si lo hiciste bien, el mismo Spyder te pedirá reiniciar el kernel:\n",
    "<img src=\"siuba04.png\">\n"
   ]
  },
  {
   "cell_type": "markdown",
   "metadata": {},
   "source": [
    "Para reiniciar el kernel, dependiendo de tu versión de Spyder, dirígete tus ojos a la siguiente posición:\n",
    "\n",
    "<img src=\"siuba05.png\">"
   ]
  },
  {
   "cell_type": "markdown",
   "metadata": {},
   "source": [
    "En la esquina superior derecha de la imagen anterior verás tres líneas horizontales o bien un símbolo de engrane. Eso depende de tu versión de Spyder.\n",
    "\n",
    "Cualquiera que sea el caso dá click en la tres líneas o, en su caso, el engrane que aparece. Se va a desplegar un menú donde está la opción de Reiniciar núcleo o Reiniciar kernel. Dá click en esa opción. \n",
    "\n",
    "Una vez que el kernel se reinicie, cierra Spyder y vuelvelo a abrir, y en un nuevo script escribe y ejecuta las siguientes líneas (**ojo: aunque se parece, no es el mismo código que utilizamos para la instalación en Jupyter**):\n",
    "\n",
    "<img src=\"siuba11.png\">\n",
    "\n",
    "Si la instalación de siuba es correcta, obtendrás lo siguiente:\n",
    "\n",
    "<img src=\"siuba06.png\">"
   ]
  },
  {
   "cell_type": "markdown",
   "metadata": {},
   "source": [
    "Finalmente, para la instalación de plotnine el procedimiento es ligeramente diferente: cuando invoquemos pip install lo haremos de otra manera. Escribe en la consola lo siguiente, tal como muestro en la imagen\n",
    "\n",
    "``pip install --user plotnine``\n",
    "\n",
    "<img src=\"siuba07.png\">"
   ]
  },
  {
   "cell_type": "markdown",
   "metadata": {},
   "source": [
    "Como con **siuba**, te pedirá reiniciar el núcleo o kernel. Reinícialo como siempre y una vez que se reinicie, cierra Spyder y vuelvelo a abrir.\n",
    "\n",
    "Una vez que lo hayas abierto, **escribe sin ejecutar** las líneas siguientes en un script nuevo:\n",
    "\n",
    "<img src=\"siuba12.png\">"
   ]
  },
  {
   "cell_type": "markdown",
   "metadata": {},
   "source": [
    "Ahora **utilizando la técnica de ejecución CON SOMBREADO, ejecuta todas las líneas anteriores**. Es decir, no hagas ``CTRL+ENTER``, sino sombrea y ejecuta (en el caso de Windows es con ``tecla Fn + tecla F9``). Dirígete al área de gráficas:\n",
    "\n",
    "<img src=\"siuba08.png\">\n",
    "\n",
    "Si obtuviste la gráfica, es porque se te instaló correctamente **plotnine**."
   ]
  },
  {
   "cell_type": "markdown",
   "metadata": {},
   "source": [
    "Deseo que hayas podido concluir las instalaciones con éxito.\n",
    "\n",
    "Un saludo.\n",
    "\n",
    "Héctor."
   ]
  }
 ],
 "metadata": {
  "kernelspec": {
   "display_name": "Python 3 (ipykernel)",
   "language": "python",
   "name": "python3"
  },
  "language_info": {
   "codemirror_mode": {
    "name": "ipython",
    "version": 3
   },
   "file_extension": ".py",
   "mimetype": "text/x-python",
   "name": "python",
   "nbconvert_exporter": "python",
   "pygments_lexer": "ipython3",
   "version": "3.11.4"
  }
 },
 "nbformat": 4,
 "nbformat_minor": 4
}
