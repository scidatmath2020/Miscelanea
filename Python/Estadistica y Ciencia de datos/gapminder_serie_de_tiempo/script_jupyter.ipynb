{
 "cells": [
  {
   "cell_type": "markdown",
   "metadata": {},
   "source": [
    "![imagenes](logo.png)"
   ]
  },
  {
   "cell_type": "markdown",
   "metadata": {},
   "source": [
    "En la lámina [C2.5 de nuestro repositorio CDD_Py_2022](https://github.com/scidatmath2020/CDD_Py_2022/blob/main/C2.5%20siuba.ipynb) se explica la tabla ``gapminder.csv``\n",
    "\n",
    "En esta práctica aprenderás a customizar un gráfico de líneas."
   ]
  },
  {
   "cell_type": "code",
   "execution_count": null,
   "metadata": {},
   "outputs": [],
   "source": [
    "import pandas as pd\n",
    "import numpy as np\n",
    "from siuba import *\n",
    "from siuba.dply.vector import *\n",
    "from plotnine import *\n",
    "\n",
    "gapminder = pd.read_csv(\"gapminder.csv\")"
   ]
  },
  {
   "cell_type": "markdown",
   "metadata": {},
   "source": [
    "Genera una tabla donde se muestre la mayor y menor esperanza de vida en Asía durante cada periodo, incluyendo el país en donde se dió"
   ]
  },
  {
   "cell_type": "code",
   "execution_count": null,
   "metadata": {},
   "outputs": [],
   "source": [
    "lifeExp_min_max = (gapminder >>\n",
    "    filter(_.continent == \"Asia\") >>\n",
    "    select(_.year,_.country,_.lifeExp) >>\n",
    "    group_by(_.year) >>\n",
    "    filter((_.lifeExp == _.lifeExp.min()) | (_.lifeExp == _.lifeExp.max())) >>\n",
    "    arrange(_.year,_.lifeExp) >>\n",
    "    mutate(type = [\"minimo\",\"maximo\"]) >>\n",
    "    ungroup()\n",
    "    )\n",
    "\n",
    "lifeExp_min_max"
   ]
  },
  {
   "cell_type": "markdown",
   "metadata": {},
   "source": [
    "Realiza un gráfico de líneas de la tabla anterior."
   ]
  },
  {
   "cell_type": "code",
   "execution_count": null,
   "metadata": {},
   "outputs": [],
   "source": [
    "(ggplot() +\n",
    "    geom_point(data = lifeExp_min_max,\n",
    "               mapping = aes(x=\"year\",y=\"lifeExp\",color=\"type\")) +\n",
    "    geom_line(data = lifeExp_min_max,\n",
    "              mapping = aes(x=\"year\",y=\"lifeExp\",color=\"type\"),\n",
    "              size = 3,alpha=0.3) +\n",
    "    geom_line(data = lifeExp_min_max,\n",
    "              mapping = aes(x=\"year\",y=\"lifeExp\",color=\"type\"),\n",
    "              size = 1) +\n",
    "    geom_text(data = lifeExp_min_max,\n",
    "              mapping = aes(x=\"year\",y=\"lifeExp+2\",label=\"country\",color=\"type\"),\n",
    "              size=6) +\n",
    "    scale_color_manual(values=[\"#E69F00\",\"#009E73\"]) +\n",
    "    theme(\n",
    "    panel_background = element_rect(\"#202020\"), \n",
    "    panel_grid = element_line(color=\"darkgrey\",size=0.1),\n",
    "    axis_title = element_blank(), \n",
    "    #axis_text = element_blank(), \n",
    "    #axis_ticks = element_blank()\n",
    "  )\n",
    ")"
   ]
  },
  {
   "cell_type": "code",
   "execution_count": null,
   "metadata": {},
   "outputs": [],
   "source": [
    "# Colocar un punto rojo en Cambodia\n",
    "\n",
    "cambodia_data = lifeExp_min_max >> filter(_.country == \"Cambodia\")\n",
    "cambodia_data"
   ]
  },
  {
   "cell_type": "code",
   "execution_count": null,
   "metadata": {},
   "outputs": [],
   "source": [
    "(ggplot() +\n",
    "    geom_point(data=lifeExp_min_max,\n",
    "       mapping=aes(x=\"year\",y=\"lifeExp\",color=\"type\")) +\n",
    "    geom_line(data=lifeExp_min_max,\n",
    "       mapping=aes(x=\"year\",y=\"lifeExp\",color=\"type\"),\n",
    "              size = 3,alpha=0.3) +\n",
    "    geom_line(data=lifeExp_min_max,\n",
    "       mapping=aes(x=\"year\",y=\"lifeExp\",color=\"type\"),\n",
    "              size = 1) +\n",
    "    geom_text(data = lifeExp_min_max,\n",
    "        mapping=aes(x=\"year\",y=\"lifeExp+2\",label=\"country\",color=\"type\"),size=6) +\n",
    "    scale_color_manual(values=[\"#E69F00\",\"#009E73\"]) +\n",
    "    geom_text(data = cambodia_data,\n",
    "              mapping=aes(x=\"year\", y=\"lifeExp+2\",label=\"country\"),size=8,color=\"red\") +\n",
    "    geom_point(data=cambodia_data,\n",
    "       mapping=aes(x=\"year\",y=\"lifeExp\"),color=\"red\") +\n",
    "    theme(\n",
    "    panel_background = element_rect(\"#202020\"), \n",
    "    panel_grid = element_line(color=\"darkgrey\",size=0.1),\n",
    "    axis_title = element_blank(), \n",
    "    #axis_text = element_blank(), \n",
    "    #axis_ticks = element_blank()\n",
    "  )\n",
    ")"
   ]
  },
  {
   "cell_type": "code",
   "execution_count": null,
   "metadata": {},
   "outputs": [],
   "source": [
    "# Añadir al primer gráfico la serie de tiempo del promedio anual de esperanza de vida\n",
    "\n",
    "lifeExp_year_mean = filter(_.country == \"Asia\")"
   ]
  },
  {
   "cell_type": "code",
   "execution_count": null,
   "metadata": {},
   "outputs": [],
   "source": [
    "lifeExp_year_mean = gapminder >> filter(_.continent == \"Asia\") >> group_by(_.year) >> summarize(mean = _.lifeExp.mean())\n",
    "lifeExp_year_mean"
   ]
  },
  {
   "cell_type": "code",
   "execution_count": null,
   "metadata": {},
   "outputs": [],
   "source": [
    "(ggplot() +\n",
    "    geom_point(data=lifeExp_min_max,\n",
    "       mapping=aes(x=\"year\",y=\"lifeExp\",color=\"type\")) +\n",
    "    geom_line(data=lifeExp_min_max,\n",
    "              mapping=aes(x=\"year\",y=\"lifeExp\",color=\"type\"),\n",
    "              size = 3,alpha=0.3) +\n",
    "    geom_line(data=lifeExp_min_max,\n",
    "              mapping=aes(x=\"year\",y=\"lifeExp\",color=\"type\"),\n",
    "              size = 1) +\n",
    "    geom_text(data=lifeExp_min_max,\n",
    "              mapping=aes(x=\"year\",y=\"lifeExp+2\",label=\"country\",color=\"type\"),size=6) +\n",
    "    scale_color_manual(values=[\"#E69F00\",\"#009E73\"]) +\n",
    "    geom_line(data=lifeExp_year_mean,\n",
    "              mapping = aes(x=\"year\",y=\"mean\"), \n",
    "              color = \"red\",size=3,alpha=0.3) +\n",
    "    geom_line(data=lifeExp_year_mean,\n",
    "              mapping = aes(x=\"year\",y=\"mean\"), \n",
    "              color = \"red\",size=1) +\n",
    "    geom_point(data=lifeExp_year_mean,\n",
    "               mapping=aes(x=\"year\",y=\"mean\"),\n",
    "               color = \"red\") +\n",
    "    theme(\n",
    "    panel_background = element_rect(\"#202020\"), \n",
    "    panel_grid = element_line(color=\"darkgrey\",size=0.1),\n",
    "    axis_title = element_blank(), \n",
    "    #axis_text = element_blank(), \n",
    "    #axis_ticks = element_blank()\n",
    "  )\n",
    ")"
   ]
  },
  {
   "cell_type": "code",
   "execution_count": null,
   "metadata": {},
   "outputs": [],
   "source": [
    "lifeExp_year_mean = lifeExp_year_mean >> mutate(country=\" \",type=\"mean\") >> select(_.year,_.country,_.lifeExp==_.mean,_.type)\n",
    "lifeExp_year_mean"
   ]
  },
  {
   "cell_type": "code",
   "execution_count": null,
   "metadata": {},
   "outputs": [],
   "source": [
    "mi_resumen = pd.concat([lifeExp_year_mean,lifeExp_min_max])\n",
    "mi_resumen"
   ]
  },
  {
   "cell_type": "code",
   "execution_count": null,
   "metadata": {},
   "outputs": [],
   "source": [
    "(ggplot() +\n",
    "    geom_point(data = mi_resumen,\n",
    "               mapping = aes(x=\"year\",y=\"lifeExp\",color=\"type\")) +\n",
    "    geom_line(data = mi_resumen,\n",
    "              mapping = aes(x=\"year\",y=\"lifeExp\",color=\"type\"),\n",
    "              size = 3,alpha=0.3) +\n",
    "    geom_line(data = mi_resumen,\n",
    "              mapping = aes(x=\"year\",y=\"lifeExp\",color=\"type\"),\n",
    "              size = 1) +\n",
    "    geom_text(data = mi_resumen,\n",
    "              mapping = aes(x=\"year\",y=\"lifeExp+2\",label=\"country\",color=\"type\"),\n",
    "              size=6) +\n",
    "    scale_color_manual(values=[\"#E69F00\",\"red\",\"#009E73\"]) +\n",
    "    theme(\n",
    "    panel_background = element_rect(\"#202020\"), \n",
    "    panel_grid = element_line(color=\"darkgrey\",size=0.1),\n",
    "    axis_title = element_blank(), \n",
    "    #axis_text = element_blank(), \n",
    "    #axis_ticks = element_blank()\n",
    "  )\n",
    ")"
   ]
  },
  {
   "cell_type": "code",
   "execution_count": null,
   "metadata": {},
   "outputs": [],
   "source": [
    "(ggplot() +\n",
    "    geom_point(data = mi_resumen,\n",
    "               mapping = aes(x=\"year\",y=\"lifeExp\",color=\"type\")) +\n",
    "    geom_line(data = mi_resumen,\n",
    "              mapping = aes(x=\"year\",y=\"lifeExp\",color=\"type\"),\n",
    "              size = 3,alpha=0.3) +\n",
    "    geom_line(data = mi_resumen,\n",
    "              mapping = aes(x=\"year\",y=\"lifeExp\",color=\"type\"),\n",
    "              size = 1) +\n",
    "    geom_text(data = mi_resumen,\n",
    "              mapping = aes(x=\"year\",y=\"lifeExp+2\",label=\"country\",color=\"type\"),\n",
    "              size=6) +\n",
    "    geom_area(data = mi_resumen,\n",
    "              mapping = aes(x=\"year\",y=\"lifeExp\",fill=\"type\"),\n",
    "              alpha=0.2,\n",
    "              position = position_dodge(width=0)) +\n",
    "    scale_color_manual(values=[\"#E69F00\",\"red\",\"#009E73\"]) +\n",
    "    scale_fill_manual(values=[\"#E69F00\",\"red\",\"#009E73\"]) +\n",
    "    theme(\n",
    "    panel_background = element_rect(\"#202020\"), \n",
    "    panel_grid = element_line(color=\"darkgrey\",size=0.1),\n",
    "    axis_title = element_blank(), \n",
    "    #axis_text = element_blank(), \n",
    "    #axis_ticks = element_blank()\n",
    "  )\n",
    ")"
   ]
  }
 ],
 "metadata": {
  "kernelspec": {
   "display_name": "Python 3",
   "language": "python",
   "name": "python3"
  },
  "language_info": {
   "codemirror_mode": {
    "name": "ipython",
    "version": 3
   },
   "file_extension": ".py",
   "mimetype": "text/x-python",
   "name": "python",
   "nbconvert_exporter": "python",
   "pygments_lexer": "ipython3",
   "version": "3.7.7"
  }
 },
 "nbformat": 4,
 "nbformat_minor": 4
}
