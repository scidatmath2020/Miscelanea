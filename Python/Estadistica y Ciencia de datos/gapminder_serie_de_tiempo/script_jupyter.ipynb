{
 "cells": [
  {
   "cell_type": "markdown",
   "metadata": {},
   "source": [
    "![imagenes](logo.png)"
   ]
  },
  {
   "cell_type": "markdown",
   "metadata": {},
   "source": [
    "En la lámina [C2.5 de nuestro repositorio CDD_Py_2022](https://github.com/scidatmath2020/CDD_Py_2022/blob/main/C2.5%20siuba.ipynb) se explica la tabla ``gapminder.csv``\n",
    "\n",
    "En esta práctica aprenderás a customizar un gráfico de líneas."
   ]
  },
  {
   "cell_type": "code",
   "execution_count": null,
   "metadata": {},
   "outputs": [],
   "source": [
    "import pandas as pd\n",
    "import numpy as np\n",
    "from siuba import *\n",
    "from siuba.dply.vector import *\n",
    "from plotnine import *\n",
    "\n",
    "gapminder = pd.read_csv(\"gapminder.csv\")"
   ]
  },
  {
   "cell_type": "markdown",
   "metadata": {},
   "source": [
    "Genera una tabla donde se muestre la mayor y menor esperanza de vida en Asía durante cada periodo, incluyendo el país en donde se dió"
   ]
  },
  {
   "cell_type": "code",
   "execution_count": null,
   "metadata": {},
   "outputs": [],
   "source": [
    "lifeExp_min_max = (gapminder >>\n",
    "    filter(_.continent == \"Asia\") >>\n",
    "    select(_.year,_.country,_.lifeExp) >>\n",
    "    group_by(_.year) >>\n",
    "    filter((_.lifeExp == _.lifeExp.min()) | (_.lifeExp == _.lifeExp.max())) >>\n",
    "    arrange(_.year,_.lifeExp) >>\n",
    "    mutate(type = [\"minimo\",\"maximo\"]) >>\n",
    "    ungroup()\n",
    "    )\n",
    "\n",
    "lifeExp_min_max"
   ]
  },
  {
   "cell_type": "markdown",
   "metadata": {},
   "source": [
    "Realiza un gráfico de líneas de la tabla anterior."
   ]
  },
  {
   "cell_type": "code",
   "execution_count": null,
   "metadata": {},
   "outputs": [],
   "source": [
    "(ggplot(data=lifeExp_min_max,\n",
    "       mapping=aes(x=\"year\",y=\"lifeExp\",color=\"type\")) +\n",
    "    geom_point() +\n",
    "    geom_line(size = 3,alpha=0.3) +\n",
    "    geom_line(size = 1) +\n",
    "    geom_text(mapping=aes(y=\"lifeExp+2\",label=\"country\"),size=6) +\n",
    "    scale_color_manual(values=[\"#E69F00\",\"#009E73\"]) +\n",
    "    theme(\n",
    "    panel_background = element_rect(\"#202020\"), \n",
    "    panel_grid = element_line(color=\"darkgrey\",size=0.1),\n",
    "    axis_title = element_blank(), \n",
    "    #axis_text = element_blank(), \n",
    "    #axis_ticks = element_blank()\n",
    "  )\n",
    ")"
   ]
  }
 ],
 "metadata": {
  "kernelspec": {
   "display_name": "Python 3",
   "language": "python",
   "name": "python3"
  },
  "language_info": {
   "codemirror_mode": {
    "name": "ipython",
    "version": 3
   },
   "file_extension": ".py",
   "mimetype": "text/x-python",
   "name": "python",
   "nbconvert_exporter": "python",
   "pygments_lexer": "ipython3",
   "version": "3.7.7"
  }
 },
 "nbformat": 4,
 "nbformat_minor": 4
}
