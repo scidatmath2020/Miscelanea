{
 "cells": [
  {
   "cell_type": "markdown",
   "metadata": {},
   "source": [
    "![imagenes](logo.png)"
   ]
  },
  {
   "cell_type": "markdown",
   "metadata": {},
   "source": [
    "# Enunciado\n",
    "\n",
    "La tabla [CT_58030.csv](https://github.com/scidatmath2020/Miscelanea/blob/main/Python/Estadistica%20y%20Ciencia%20de%20datos/preprocesado%20y%20graficacion%20CT_58030/CT_58030.csv) contiene 1,294 columnas con información, entre otras cosas, acerca de la presencia de Aluminio, Azufre, Boro, Carbón, Titanio, Níquel, Cromo y Cobre en 1,755 observaciones, algunas de ellas repetidas.\n",
    "\n",
    "Para cada uno de los elementos antes mencionados, existen normas que los valores de las observaciones deben cumplir. Esto es, esos valores deben estar en ciertos rangos:\n",
    "\n",
    "Elemento|Mínimo|Máximo\n",
    ":--|:--:|:--:\n",
    "Aluminio|0.00|10.00\n",
    "Azufre|0.00|0.05\n",
    "Boro|0.00|10.00\n",
    "Carbón|0.00|0.10\n",
    "Titanio|0.00|10.00\n",
    "Níquel|0.00|10.00\n",
    "Cromo|0.00|10.00\n",
    "Cobre|0.00|0.14\n",
    "\n",
    "Encuentra, si es que existen, aquellos elementos que no cumplen con la norma."
   ]
  }
 ],
 "metadata": {
  "kernelspec": {
   "display_name": "Python 3",
   "language": "python",
   "name": "python3"
  },
  "language_info": {
   "codemirror_mode": {
    "name": "ipython",
    "version": 3
   },
   "file_extension": ".py",
   "mimetype": "text/x-python",
   "name": "python",
   "nbconvert_exporter": "python",
   "pygments_lexer": "ipython3",
   "version": "3.7.7"
  }
 },
 "nbformat": 4,
 "nbformat_minor": 4
}
