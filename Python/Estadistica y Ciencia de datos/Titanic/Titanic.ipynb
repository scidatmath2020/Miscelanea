{
 "cells": [
  {
   "cell_type": "markdown",
   "metadata": {},
   "source": [
    "<img src=\"logo.png\">"
   ]
  },
  {
   "cell_type": "markdown",
   "metadata": {},
   "source": [
    "# Titanic\n",
    "\n",
    "La tabla de ``Titanic.csv``, que puedes descargar [aquí](https://github.com/scidatmath2020/Miscelanea/blob/main/Python/Estadistica%20y%20Ciencia%20de%20datos/Titanic/titanic.csv), contiene información sobre la edad, el tipo de clase, sexo y superviviencia de las personas que estuvieron abordo del Titanic durante su desastrozo viaje.\n",
    "\n",
    "Responde las siguientes preguntas:\n",
    "\n",
    "1. Determina el número de supervivientes por sexo. ¿Las mujeres pasajeras tuvieron mayor oportunidad de sobrevivir que los hombres?\n",
    "\n",
    "2. Determina el número de supervivientes por edad. ¿Los niños tuvieron mayor oportunidad de sobrevivir que los adultos?\n",
    "\n",
    "3. Considera el número de supervivientes en función de la edad y el sexo. ¿El patrón observado en 1 se mantiene igual para niños y adultos?\n",
    "\n",
    "4. La documentación del viaje del Titanic sugiere que la política *niños y mujeres primero* no fue \"enteramente exitosa\" para salvar a niños y mujeres de la 3a clase. Verfica esto haciendo un gráfico de barras."
   ]
  },
  {
   "cell_type": "code",
   "execution_count": null,
   "metadata": {},
   "outputs": [],
   "source": [
    "import pandas as pd\n",
    "import numpy as np\n",
    "from siuba import *\n",
    "from siuba.dply.vector import *\n",
    "from plotnine import *"
   ]
  },
  {
   "cell_type": "code",
   "execution_count": null,
   "metadata": {},
   "outputs": [],
   "source": [
    "titanic = pd.read_csv(\"titanic.csv\")"
   ]
  },
  {
   "cell_type": "code",
   "execution_count": null,
   "metadata": {},
   "outputs": [],
   "source": [
    "titanic"
   ]
  },
  {
   "cell_type": "code",
   "execution_count": null,
   "metadata": {},
   "outputs": [],
   "source": [
    "titanic >> filter(_.Survived == \"Yes\") >> group_by(_.Sex) >> summarize(total_survived = _.n.sum())"
   ]
  },
  {
   "cell_type": "code",
   "execution_count": null,
   "metadata": {},
   "outputs": [],
   "source": [
    "titanic >> mutate(survived_code = np.where(_.Survived == \"Yes\",1,0))"
   ]
  },
  {
   "cell_type": "code",
   "execution_count": null,
   "metadata": {},
   "outputs": [],
   "source": [
    "titanic = titanic >> mutate(survived_code = np.where(_.Survived == \"Yes\",1,0))"
   ]
  },
  {
   "cell_type": "code",
   "execution_count": null,
   "metadata": {},
   "outputs": [],
   "source": [
    "titanic >> filter(_.Sex==\"Female\")"
   ]
  },
  {
   "cell_type": "code",
   "execution_count": null,
   "metadata": {},
   "outputs": [],
   "source": [
    "(titanic >> group_by(_.Sex) >> summarize(total_travelers=_.n.sum(),\n",
    "                                        total_survived = (_.n * _.survived_code).sum(), \n",
    "                                        per = 100*(_.n * _.survived_code).sum()/_.n.sum())\n",
    ")"
   ]
  },
  {
   "cell_type": "code",
   "execution_count": null,
   "metadata": {},
   "outputs": [],
   "source": [
    "(titanic >> group_by(_.Age) >> summarize(total_travelers=_.n.sum(),\n",
    "                                        total_survived = (_.n * _.survived_code).sum(), \n",
    "                                        per = 100*(_.n * _.survived_code).sum()/_.n.sum())\n",
    ")"
   ]
  },
  {
   "cell_type": "code",
   "execution_count": null,
   "metadata": {},
   "outputs": [],
   "source": [
    "(titanic >> group_by(_.Age,_.Sex) >> summarize(total_travelers=_.n.sum(),\n",
    "                                        total_survived = (_.n * _.survived_code).sum(), \n",
    "                                        per = 100*(_.n * _.survived_code).sum()/_.n.sum())\n",
    ")"
   ]
  },
  {
   "cell_type": "code",
   "execution_count": null,
   "metadata": {},
   "outputs": [],
   "source": [
    "resumen = (titanic >> group_by(_.Age,_.Sex,_.Class) >> summarize(total_travelers=_.n.sum(),\n",
    "                                        total_survived = (_.n * _.survived_code).sum(), \n",
    "                                        per = 100*(_.n * _.survived_code).sum()/_.n.sum())\n",
    ")"
   ]
  },
  {
   "cell_type": "code",
   "execution_count": null,
   "metadata": {},
   "outputs": [],
   "source": [
    "resumen"
   ]
  },
  {
   "cell_type": "code",
   "execution_count": null,
   "metadata": {},
   "outputs": [],
   "source": [
    "(ggplot() +\n",
    "     geom_col(data = resumen,\n",
    "              mapping = aes(x=\"Class\",y=\"per\",fill=\"Sex\"),\n",
    "              position = \"dodge\",\n",
    "              alpha=0.5\n",
    "             ) +\n",
    "     geom_col(data = resumen, \n",
    "              mapping = aes(x=\"Class\", y=\"per-2\",fill=\"Sex\"),\n",
    "              position=\"dodge\",\n",
    "              width = 0.8\n",
    "              ) +\n",
    " facet_grid(\"Age~.\") +\n",
    " scale_fill_manual(values = [\"#009E73\",\"#E69F00\"]) +\n",
    "    theme(panel_background = element_rect(\"#202020\"),\n",
    "          panel_grid = element_line(color=\"darkgrey\",size=0.1)) \n",
    ")"
   ]
  }
 ],
 "metadata": {
  "kernelspec": {
   "display_name": "Python 3",
   "language": "python",
   "name": "python3"
  },
  "language_info": {
   "codemirror_mode": {
    "name": "ipython",
    "version": 3
   },
   "file_extension": ".py",
   "mimetype": "text/x-python",
   "name": "python",
   "nbconvert_exporter": "python",
   "pygments_lexer": "ipython3",
   "version": "3.7.7"
  }
 },
 "nbformat": 4,
 "nbformat_minor": 4
}
