{
 "cells": [
  {
   "cell_type": "markdown",
   "metadata": {},
   "source": [
    "<img src=\"logo.png\">"
   ]
  },
  {
   "cell_type": "markdown",
   "metadata": {},
   "source": [
    "# Los mamíferos y sus hábitos de sueño\n",
    "\n",
    "La tabla ``msleep.csv``, que puedes descargar aquí, contiene información sobre 83 mamíferos diferentes. La información tiene su nombre común, su género, su tipo de dieta, su orden taxológico, su estado de conservación, así como las horas de sueño al día que duermen, las horas que corresponden al sueño profundo (REM), cuánto dura su [ciclo de sueño](https://www.nhlbi.nih.gov/es/salud/sueno/estadios-del-sueno#:~:text=Al%20dormir%2C%20se%20atraviesa%20un,entre%20un%20ciclo%20y%20otro.), cuántas horas se mantiene despierto al día, su masa cerebral (en Kg) y su masa corporal (también en kg).\n",
    "\n",
    "Resuelve los siguientes problemas:"
   ]
  },
  {
   "cell_type": "code",
   "execution_count": null,
   "metadata": {},
   "outputs": [],
   "source": [
    "# Cargado de bibliotecas y lectura del archivo\n",
    "\n",
    "import pandas as pd\n",
    "import numpy as np\n",
    "from siuba import *\n",
    "from siuba.dply.vector import *\n",
    "from plotnine import *\n",
    "\n",
    "sp = pd.read_csv('msleep.csv')"
   ]
  },
  {
   "cell_type": "code",
   "execution_count": null,
   "metadata": {},
   "outputs": [],
   "source": [
    "# Cambia el nombre de cada columna a su traducción en español.\n",
    "\n",
    "sp = (sp >> rename(nombre = \"name\",\n",
    "                   género = \"genus\",\n",
    "                   dieta = \"vore\",\n",
    "                   orden = \"order\",\n",
    "                   conservacion = \"conservation\",\n",
    "                   horas_sueño = \"sleep_total\",\n",
    "                   horas_rem = \"sleep_rem\",\n",
    "                   ciclo_sueño = \"sleep_cycle\",\n",
    "                   horas_despierto = \"awake\",\n",
    "                   masa_cerebral = \"brainwt\",\n",
    "                   masa_corporal = \"bodywt\")\n",
    "     )"
   ]
  },
  {
   "cell_type": "code",
   "execution_count": null,
   "metadata": {},
   "outputs": [],
   "source": [
    "# Ordena la tabla alaféticamente por dieta, orden y nombre, y muestra el género de los tres primeros renglones. \n",
    "\n",
    "sp >> arrange(_.dieta,_.orden,_.nombre) >> head(3) >> select(_.género)"
   ]
  },
  {
   "cell_type": "code",
   "execution_count": null,
   "metadata": {},
   "outputs": [],
   "source": [
    "# ¿Cuál es la dieta más común en la tabla? ¿Cuántos omnívoros hay?\n",
    "\n",
    "sp >> group_by(_.dieta) >> summarize(total = n(_)) >> arrange(-_.total)"
   ]
  },
  {
   "cell_type": "code",
   "execution_count": null,
   "metadata": {},
   "outputs": [],
   "source": [
    "# ¿Cuál es el orden más común en la tabla?  ¿Hay más carnívora que primates?\n",
    "\n",
    "sp >> group_by(_.orden) >> summarize(total = n(_)) >> arrange(-_.total)"
   ]
  },
  {
   "cell_type": "code",
   "execution_count": null,
   "metadata": {},
   "outputs": [],
   "source": [
    "# ¿Cuáles son los mamíferos que más y menos duermen?\n",
    "\n",
    "(sp >> filter(_.orden == \"Primates\") >> \n",
    "     filter((_.horas_sueño==_.horas_sueño.max()) | (_.horas_sueño==_.horas_sueño.min()))\n",
    ")"
   ]
  },
  {
   "cell_type": "code",
   "execution_count": null,
   "metadata": {},
   "outputs": [],
   "source": [
    "# ¿Qué resultado esperarías obtener si sumas las horas de sueño con las horas despierto en cada renglón?\n",
    "# Calcula una nueva columna llamada \"total_despierto_dormido\" que sea esta suma.\n",
    "\n",
    "sp >> mutate(total_sueño_despierto = _.horas_sueño + _.horas_despierto)"
   ]
  },
  {
   "cell_type": "code",
   "execution_count": null,
   "metadata": {},
   "outputs": [],
   "source": [
    "# Añade el porcentaje de masa que representa el cerebro respecto del cuerpo de cada animal y responde:\n",
    "\n",
    "sp_ratio = sp >> mutate(per_br_bd = 100*(_.masa_cerebral)/_.masa_corporal)\n",
    "sp_ratio"
   ]
  },
  {
   "cell_type": "code",
   "execution_count": null,
   "metadata": {},
   "outputs": [],
   "source": [
    "#### ¿Qué animales tienen el mayor y menor porcentaje de masa cerebral respecto a la corporal?\n",
    "\n",
    "sp_ratio >> filter((_.per_br_bd == _.per_br_bd.max()) | (_.per_br_bd == _.per_br_bd.min())) >> arrange(-_.per_br_bd)"
   ]
  },
  {
   "cell_type": "code",
   "execution_count": null,
   "metadata": {},
   "outputs": [],
   "source": [
    "#### ¿Cuántos animales tienen dicho porcentaje mayor al del humano?\n",
    "\n",
    "per_br_bd_human = sp_ratio[sp_ratio[\"nombre\"] == \"Human\"][\"per_br_bd\"].iloc[0]\n",
    "per_br_bd_human"
   ]
  },
  {
   "cell_type": "code",
   "execution_count": null,
   "metadata": {},
   "outputs": [],
   "source": [
    "sp_ratio >> filter(_.per_br_bd > per_br_bd_human) >> count()"
   ]
  },
  {
   "cell_type": "code",
   "execution_count": null,
   "metadata": {},
   "outputs": [],
   "source": [
    "# Añade una columna que indique si el animal duerme 8 o menos horas.\n",
    "\n",
    "sp_ratio = sp_ratio >> mutate(ocho_horas = np.where(_.horas_sueño <= 8,\"Menos de 8 horas de sueño\",\"Más de 8 horas de sueño\"))\n",
    "sp_ratio"
   ]
  },
  {
   "cell_type": "code",
   "execution_count": null,
   "metadata": {},
   "outputs": [],
   "source": [
    "sp_ratio_conocido = (sp_ratio >> \n",
    "           filter(_.per_br_bd.isna() == False)           \n",
    "          )"
   ]
  },
  {
   "cell_type": "code",
   "execution_count": null,
   "metadata": {},
   "outputs": [],
   "source": [
    "# Crea un gráfico de barras donde se indique cuántos animales de cada dieta tienen mayor relación cerebro/cuerpo respecto \n",
    "# de los humanos, separando aquellos que duermen menos de 8 horas de los que duermen mas de 8 horas.\n",
    "\n",
    "sp_ratio_conocido = sp_ratio_conocido >> mutate(mayor_humano = np.where(_.per_br_bd > per_br_bd_human,\"Sí\",\"No\"))\n",
    "sp_ratio_conocido"
   ]
  },
  {
   "cell_type": "code",
   "execution_count": null,
   "metadata": {},
   "outputs": [],
   "source": [
    "resumen = sp_ratio_conocido >> group_by(_.dieta,_.mayor_humano,_.ocho_horas) >> count()\n",
    "resumen"
   ]
  },
  {
   "cell_type": "code",
   "execution_count": null,
   "metadata": {},
   "outputs": [],
   "source": [
    "(ggplot() +\n",
    "    geom_col(data = resumen,\n",
    "             mapping = aes(x=\"dieta\",y=\"n\",fill=\"mayor_humano\"),\n",
    "             position = position_dodge(preserve = \"single\")) +\n",
    "    geom_text(data = resumen,\n",
    "             mapping = aes(x=\"dieta\",y=\"n+0.5\",fill=\"mayor_humano\",label=\"n\"),\n",
    "             position = position_dodge(width = 0.9)\n",
    "             ) +\n",
    " facet_grid(\"ocho_horas~.\")\n",
    ")"
   ]
  }
 ],
 "metadata": {
  "kernelspec": {
   "display_name": "Python 3",
   "language": "python",
   "name": "python3"
  },
  "language_info": {
   "codemirror_mode": {
    "name": "ipython",
    "version": 3
   },
   "file_extension": ".py",
   "mimetype": "text/x-python",
   "name": "python",
   "nbconvert_exporter": "python",
   "pygments_lexer": "ipython3",
   "version": "3.7.7"
  }
 },
 "nbformat": 4,
 "nbformat_minor": 4
}
