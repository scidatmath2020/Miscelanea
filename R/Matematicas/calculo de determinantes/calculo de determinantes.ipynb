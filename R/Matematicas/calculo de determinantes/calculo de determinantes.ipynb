{
 "cells": [
  {
   "cell_type": "markdown",
   "metadata": {},
   "source": [
    "![imagenes](logo.png)"
   ]
  },
  {
   "cell_type": "markdown",
   "metadata": {},
   "source": [
    "# Enunciado\n",
    "\n",
    "Programar el cálculo del determinante de cualquier matriz cuadrada de $n\\times n$ en **R**."
   ]
  },
  {
   "cell_type": "markdown",
   "metadata": {},
   "source": [
    "# Solución.\n",
    "\n",
    "Utilizaremos la propiedad de recursividad para definir funciones en **R**."
   ]
  },
  {
   "cell_type": "code",
   "execution_count": 1,
   "metadata": {},
   "outputs": [],
   "source": [
    "# Definimos la función\n",
    "\n",
    "determinante <- function(matriz){\n",
    "  matriz = data.frame(matriz)\n",
    "  if(nrow(matriz)==1){\n",
    "    return(c(\"determinante\" = matriz[1,1]))\n",
    "  } else{\n",
    "    fila = matriz[1,]\n",
    "    suma = 0\n",
    "    for(i in 1:ncol(matriz)){\n",
    "      suma = fila[i]*((-1)^(i+1))*determinante(matriz[-1,-i]) + suma\n",
    "    }\n",
    "    return(c(\"determinante\"=suma))\n",
    "  }\n",
    "}"
   ]
  },
  {
   "cell_type": "code",
   "execution_count": 2,
   "metadata": {},
   "outputs": [
    {
     "data": {
      "text/html": [
       "<table>\n",
       "<tbody>\n",
       "\t<tr><td>13.101973  </td><td>-4.27721908</td><td> 3.9942624 </td><td>14.364373  </td><td> 5.488933  </td><td>17.4461658 </td><td> 0.7406669 </td></tr>\n",
       "\t<tr><td>14.870561  </td><td>14.18828992</td><td>17.5408351 </td><td> 2.850824  </td><td>10.620546  </td><td>-0.8914392 </td><td>10.7820704 </td></tr>\n",
       "\t<tr><td>12.171758  </td><td> 0.08959867</td><td> 9.0357210 </td><td>-6.719132  </td><td> 3.691291  </td><td>15.0661914 </td><td>11.2271505 </td></tr>\n",
       "\t<tr><td> 3.413864  </td><td> 3.76843962</td><td>-6.4720371 </td><td>17.518126  </td><td> 2.509232  </td><td>-6.4787501 </td><td> 6.7793606 </td></tr>\n",
       "\t<tr><td> 4.362620  </td><td> 7.06547777</td><td>-2.6169117 </td><td> 4.218606  </td><td> 6.159847  </td><td> 4.4455009 </td><td>-6.1699903 </td></tr>\n",
       "\t<tr><td>11.445337  </td><td> 8.18891034</td><td>-0.3748705 </td><td>19.140610  </td><td>12.097832  </td><td>-6.2244788 </td><td>19.7534980 </td></tr>\n",
       "\t<tr><td>14.105544  </td><td>15.69345949</td><td> 5.1392170 </td><td>14.763485  </td><td> 7.708111  </td><td>13.2044803 </td><td>18.3084630 </td></tr>\n",
       "</tbody>\n",
       "</table>\n"
      ],
      "text/latex": [
       "\\begin{tabular}{lllllll}\n",
       "\t 13.101973   & -4.27721908 &  3.9942624  & 14.364373   &  5.488933   & 17.4461658  &  0.7406669 \\\\\n",
       "\t 14.870561   & 14.18828992 & 17.5408351  &  2.850824   & 10.620546   & -0.8914392  & 10.7820704 \\\\\n",
       "\t 12.171758   &  0.08959867 &  9.0357210  & -6.719132   &  3.691291   & 15.0661914  & 11.2271505 \\\\\n",
       "\t  3.413864   &  3.76843962 & -6.4720371  & 17.518126   &  2.509232   & -6.4787501  &  6.7793606 \\\\\n",
       "\t  4.362620   &  7.06547777 & -2.6169117  &  4.218606   &  6.159847   &  4.4455009  & -6.1699903 \\\\\n",
       "\t 11.445337   &  8.18891034 & -0.3748705  & 19.140610   & 12.097832   & -6.2244788  & 19.7534980 \\\\\n",
       "\t 14.105544   & 15.69345949 &  5.1392170  & 14.763485   &  7.708111   & 13.2044803  & 18.3084630 \\\\\n",
       "\\end{tabular}\n"
      ],
      "text/markdown": [
       "\n",
       "| 13.101973   | -4.27721908 |  3.9942624  | 14.364373   |  5.488933   | 17.4461658  |  0.7406669  |\n",
       "| 14.870561   | 14.18828992 | 17.5408351  |  2.850824   | 10.620546   | -0.8914392  | 10.7820704  |\n",
       "| 12.171758   |  0.08959867 |  9.0357210  | -6.719132   |  3.691291   | 15.0661914  | 11.2271505  |\n",
       "|  3.413864   |  3.76843962 | -6.4720371  | 17.518126   |  2.509232   | -6.4787501  |  6.7793606  |\n",
       "|  4.362620   |  7.06547777 | -2.6169117  |  4.218606   |  6.159847   |  4.4455009  | -6.1699903  |\n",
       "| 11.445337   |  8.18891034 | -0.3748705  | 19.140610   | 12.097832   | -6.2244788  | 19.7534980  |\n",
       "| 14.105544   | 15.69345949 |  5.1392170  | 14.763485   |  7.708111   | 13.2044803  | 18.3084630  |\n",
       "\n"
      ],
      "text/plain": [
       "     [,1]      [,2]        [,3]       [,4]      [,5]      [,6]       [,7]      \n",
       "[1,] 13.101973 -4.27721908  3.9942624 14.364373  5.488933 17.4461658  0.7406669\n",
       "[2,] 14.870561 14.18828992 17.5408351  2.850824 10.620546 -0.8914392 10.7820704\n",
       "[3,] 12.171758  0.08959867  9.0357210 -6.719132  3.691291 15.0661914 11.2271505\n",
       "[4,]  3.413864  3.76843962 -6.4720371 17.518126  2.509232 -6.4787501  6.7793606\n",
       "[5,]  4.362620  7.06547777 -2.6169117  4.218606  6.159847  4.4455009 -6.1699903\n",
       "[6,] 11.445337  8.18891034 -0.3748705 19.140610 12.097832 -6.2244788 19.7534980\n",
       "[7,] 14.105544 15.69345949  5.1392170 14.763485  7.708111 13.2044803 18.3084630"
      ]
     },
     "metadata": {},
     "output_type": "display_data"
    }
   ],
   "source": [
    "# Construimos una matriz cuadrada de tamaño n aleatorio (n entre 1 y 20) donde sus entradas son también\n",
    "# números generados aleatoriamente en (-7,20)\n",
    "\n",
    "n = sample(1:10,1)\n",
    "\n",
    "mi_matriz = matrix(runif(n^2,-7,20),nrow=n)\n",
    "mi_matriz"
   ]
  },
  {
   "cell_type": "code",
   "execution_count": 3,
   "metadata": {},
   "outputs": [
    {
     "data": {
      "text/html": [
       "102554698.471281"
      ],
      "text/latex": [
       "102554698.471281"
      ],
      "text/markdown": [
       "102554698.471281"
      ],
      "text/plain": [
       "[1] 102554698"
      ]
     },
     "metadata": {},
     "output_type": "display_data"
    }
   ],
   "source": [
    "# Aplicamos la función det() que ya viene instalada en R básico\n",
    "det(mi_matriz)"
   ]
  },
  {
   "cell_type": "code",
   "execution_count": 4,
   "metadata": {},
   "outputs": [
    {
     "data": {
      "text/html": [
       "<strong>$determinante.X7</strong> = 102554698.471281"
      ],
      "text/latex": [
       "\\textbf{\\$determinante.X7} = 102554698.471281"
      ],
      "text/markdown": [
       "**$determinante.X7** = 102554698.471281"
      ],
      "text/plain": [
       "$determinante.X7\n",
       "[1] 102554698\n"
      ]
     },
     "metadata": {},
     "output_type": "display_data"
    }
   ],
   "source": [
    "# Calculamos el determinante con la función que construímos\n",
    "determinante(mi_matriz)"
   ]
  },
  {
   "cell_type": "markdown",
   "metadata": {},
   "source": [
    " Vemos que ambos valores coinciden"
   ]
  }
 ],
 "metadata": {
  "kernelspec": {
   "display_name": "R",
   "language": "R",
   "name": "ir"
  },
  "language_info": {
   "codemirror_mode": "r",
   "file_extension": ".r",
   "mimetype": "text/x-r-source",
   "name": "R",
   "pygments_lexer": "r",
   "version": "3.6.1"
  }
 },
 "nbformat": 4,
 "nbformat_minor": 4
}
