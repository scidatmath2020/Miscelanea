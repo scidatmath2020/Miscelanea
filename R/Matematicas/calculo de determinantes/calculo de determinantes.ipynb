{
 "cells": [
  {
   "cell_type": "markdown",
   "metadata": {},
   "source": [
    "![imagenes](logo.png)"
   ]
  },
  {
   "cell_type": "markdown",
   "metadata": {},
   "source": [
    "# Enunciado\n",
    "\n",
    "Programar el cálculo del determinante de cualquier matriz cuadrada de $n\\times n$ en **R**."
   ]
  },
  {
   "cell_type": "markdown",
   "metadata": {},
   "source": [
    "# Solución.\n",
    "\n",
    "Utilizaremos la propiedad de recursividad para definir funciones en **R**."
   ]
  },
  {
   "cell_type": "code",
   "execution_count": 1,
   "metadata": {},
   "outputs": [],
   "source": [
    "# Definimos la función\n",
    "\n",
    "determinante <- function(matriz){\n",
    "  matriz = data.frame(matriz)\n",
    "  if(nrow(matriz)==1){\n",
    "    return(c(\"determinante\" = matriz[1,1]))\n",
    "  } else{\n",
    "    fila = matriz[1,]\n",
    "    suma = 0\n",
    "    for(i in 1:ncol(matriz)){\n",
    "      suma = fila[i]*((-1)^(i+1))*determinante(matriz[-1,-i]) + suma\n",
    "    }\n",
    "    return(c(\"determinante\"=suma))\n",
    "  }\n",
    "}"
   ]
  },
  {
   "cell_type": "code",
   "execution_count": 2,
   "metadata": {},
   "outputs": [
    {
     "data": {
      "text/html": [
       "<table>\n",
       "<tbody>\n",
       "\t<tr><td> 4.170571 </td><td> 9.596289 </td><td>-6.224705 </td><td> 0.4411962</td><td>-1.6241483</td><td>-5.090727 </td></tr>\n",
       "\t<tr><td>-6.953662 </td><td> 8.375005 </td><td>15.227113 </td><td>-2.5950708</td><td>10.4120205</td><td>15.993092 </td></tr>\n",
       "\t<tr><td> 6.682253 </td><td>19.342017 </td><td> 4.878601 </td><td>11.8157154</td><td>-0.5560946</td><td> 1.066052 </td></tr>\n",
       "\t<tr><td>15.729855 </td><td>16.240018 </td><td>-5.172082 </td><td>-4.3407224</td><td> 4.7822791</td><td>-6.487149 </td></tr>\n",
       "\t<tr><td> 0.245100 </td><td>12.017275 </td><td>12.774108 </td><td> 0.8151420</td><td>-0.8649918</td><td>15.849875 </td></tr>\n",
       "\t<tr><td> 2.440724 </td><td>11.904480 </td><td>12.732198 </td><td> 6.2433293</td><td>-6.2640825</td><td> 9.679371 </td></tr>\n",
       "</tbody>\n",
       "</table>\n"
      ],
      "text/latex": [
       "\\begin{tabular}{llllll}\n",
       "\t  4.170571  &  9.596289  & -6.224705  &  0.4411962 & -1.6241483 & -5.090727 \\\\\n",
       "\t -6.953662  &  8.375005  & 15.227113  & -2.5950708 & 10.4120205 & 15.993092 \\\\\n",
       "\t  6.682253  & 19.342017  &  4.878601  & 11.8157154 & -0.5560946 &  1.066052 \\\\\n",
       "\t 15.729855  & 16.240018  & -5.172082  & -4.3407224 &  4.7822791 & -6.487149 \\\\\n",
       "\t  0.245100  & 12.017275  & 12.774108  &  0.8151420 & -0.8649918 & 15.849875 \\\\\n",
       "\t  2.440724  & 11.904480  & 12.732198  &  6.2433293 & -6.2640825 &  9.679371 \\\\\n",
       "\\end{tabular}\n"
      ],
      "text/markdown": [
       "\n",
       "|  4.170571  |  9.596289  | -6.224705  |  0.4411962 | -1.6241483 | -5.090727  |\n",
       "| -6.953662  |  8.375005  | 15.227113  | -2.5950708 | 10.4120205 | 15.993092  |\n",
       "|  6.682253  | 19.342017  |  4.878601  | 11.8157154 | -0.5560946 |  1.066052  |\n",
       "| 15.729855  | 16.240018  | -5.172082  | -4.3407224 |  4.7822791 | -6.487149  |\n",
       "|  0.245100  | 12.017275  | 12.774108  |  0.8151420 | -0.8649918 | 15.849875  |\n",
       "|  2.440724  | 11.904480  | 12.732198  |  6.2433293 | -6.2640825 |  9.679371  |\n",
       "\n"
      ],
      "text/plain": [
       "     [,1]      [,2]      [,3]      [,4]       [,5]       [,6]     \n",
       "[1,]  4.170571  9.596289 -6.224705  0.4411962 -1.6241483 -5.090727\n",
       "[2,] -6.953662  8.375005 15.227113 -2.5950708 10.4120205 15.993092\n",
       "[3,]  6.682253 19.342017  4.878601 11.8157154 -0.5560946  1.066052\n",
       "[4,] 15.729855 16.240018 -5.172082 -4.3407224  4.7822791 -6.487149\n",
       "[5,]  0.245100 12.017275 12.774108  0.8151420 -0.8649918 15.849875\n",
       "[6,]  2.440724 11.904480 12.732198  6.2433293 -6.2640825  9.679371"
      ]
     },
     "metadata": {},
     "output_type": "display_data"
    }
   ],
   "source": [
    "# Construimos una matriz cuadrada de tamaño n aleatorio (n entre 1 y 20) donde sus entradas son también\n",
    "# números generados aleatoriamente en (-7,20)\n",
    "\n",
    "n = sample(1:20,1)\n",
    "\n",
    "mi_matriz = matrix(runif(n^2,-7,20),nrow=n)\n",
    "mi_matriz"
   ]
  },
  {
   "cell_type": "code",
   "execution_count": 3,
   "metadata": {},
   "outputs": [
    {
     "data": {
      "text/html": [
       "<strong>$determinante.X6</strong> = -1784613.83170203"
      ],
      "text/latex": [
       "\\textbf{\\$determinante.X6} = -1784613.83170203"
      ],
      "text/markdown": [
       "**$determinante.X6** = -1784613.83170203"
      ],
      "text/plain": [
       "$determinante.X6\n",
       "[1] -1784614\n"
      ]
     },
     "metadata": {},
     "output_type": "display_data"
    }
   ],
   "source": [
    "# Aplicamos la función det que ya viene instalada en R básico\n",
    "determinante(mi_matriz)"
   ]
  },
  {
   "cell_type": "code",
   "execution_count": 4,
   "metadata": {},
   "outputs": [
    {
     "data": {
      "text/html": [
       "-1784613.83170203"
      ],
      "text/latex": [
       "-1784613.83170203"
      ],
      "text/markdown": [
       "-1784613.83170203"
      ],
      "text/plain": [
       "[1] -1784614"
      ]
     },
     "metadata": {},
     "output_type": "display_data"
    }
   ],
   "source": [
    "# Calculamos el determinante con la función que construímos\n",
    "det(mi_matriz)"
   ]
  }
 ],
 "metadata": {
  "kernelspec": {
   "display_name": "R",
   "language": "R",
   "name": "ir"
  },
  "language_info": {
   "codemirror_mode": "r",
   "file_extension": ".r",
   "mimetype": "text/x-r-source",
   "name": "R",
   "pygments_lexer": "r",
   "version": "3.6.1"
  }
 },
 "nbformat": 4,
 "nbformat_minor": 4
}
