{
 "cells": [
  {
   "cell_type": "markdown",
   "id": "e258ccb1",
   "metadata": {},
   "source": [
    "![imagenes](logo.png)"
   ]
  },
  {
   "cell_type": "markdown",
   "id": "c0cf8391",
   "metadata": {},
   "source": [
    "# Instalación de Tidyverse en RStudio\n",
    "\n",
    "**Tidyverse** es una biblioteca fundamental en R para realizar análisis de datos. Está conformada, entre otras subbibliotecas, por **dplyr** y **ggplot2**.\n",
    "\n",
    "Por una parte, **dplyr** es una de las herramientas más importantes para realizar análisis exploratorio de los datos, ya que nos permite realizar filtros, selecciones, transformaciones y ordenaciones de nuestras tablas para realizar consultas (es análogo a pandas de Python o a SQL).\n",
    "\n",
    "Por otra parte, **ggplot2** es el graficador por excelencia de R, con el cual se realizan la mayor parte de gráficas de nuestros datos.\n",
    "\n",
    "En esta sección mostraremos cómo instalar tidyverse en nuestra computadora."
   ]
  },
  {
   "cell_type": "markdown",
   "id": "25dc9cbe",
   "metadata": {},
   "source": [
    "## Instalar y cargar tidyverse\n",
    "\n",
    "Al igual que con cualquier otra biblioteca de R, el instalado y cargado de tidyverse se realiza en dos pasos: *instalación de la biblioteca* y *cargado de la biblioteca*.\n",
    "\n",
    "La *instalación* es el proceso de buscar en la web una biblioteca requerida para realizar ciertas acciones específicas de nuestro trabajo. Es decir, buscar en todo el universo web un conjunto de herramientas. Una vez que las encontramos y las instalamos en nuestro ordenador, ya no es necesario volver a instalarlos.\n",
    "\n",
    "En RStudio, la instrucción para instalar es ``install.packages(\"NOMBRE_DE_LA_BIBLIOTECA\")`` (las comillas son obligatorias, aunque pueden ser comillas simples o dobles).\n",
    "\n",
    "En el caso de tidyvserse, simplementes escribimos ``install.packages(\"tidyverse\")``. Observa la imagen:\n",
    "\n",
    "![imagenes](im01.png)"
   ]
  },
  {
   "cell_type": "markdown",
   "id": "710216cf",
   "metadata": {},
   "source": [
    "Una vez que has escrito la instrucción debida, sólo presiona ``ENTER``. Deberás obtener la frase ``package ‘tidyverse’ successfully unpacked and MD5 sums checked``, que literalmente te dice que la instalación ha sido exitosa.\n",
    "\n",
    "![imagenes](im02.png)"
   ]
  },
  {
   "cell_type": "markdown",
   "id": "147df01f",
   "metadata": {},
   "source": [
    "Hasta aquí hemos terminado el proceso de instalación.\n",
    "\n",
    "La segunda parte es el cargado de bibliotecas. Recuerda que el cargado se tiene que hacer siempre que vayas a utilizar la biblioteca.\n",
    "\n",
    "En otras palabras, en este momento es como si hubieras \"conseguido un libro\" y ahora lo quieres \"utilizar\". La parte de conseguir el libro se refiere a la instalación, y la parte de utilizar el libro se refiere al cargado.\n",
    "\n",
    "El cargado en RStudio simplemente se hace con el comando ``library(NOMBRE_DE_LA_BIBLIOTECA)`` (observa que ya no lleva comillas).\n",
    "\n",
    "En el caso de tidyvserse, esto es ``library(tidyverse)``. Observa la figura\n",
    "![imagenes](im03.png)\n",
    "\n",
    "Una vez que has escrito el comando, simplemente presiona al mismo tiempo las teclas ``CTRL``+``ENTER`` (en Mac la tecla CTRL es la tecla ``CMD``).\n",
    "\n",
    "Obtendrás lo siguiente (no te preocupes por los warnings ni las X que aparecen):\n",
    "\n",
    "![imagenes](im04.png)"
   ]
  },
  {
   "cell_type": "markdown",
   "id": "85e3a81a",
   "metadata": {},
   "source": [
    "## Prueba\n",
    "\n",
    "Vamos a probar que todo esté bien instalado.\n",
    "\n",
    "Copia y pega el siguente código en tu script y ejecútalo (para ejecutar, selecciona todo el texto en el script y presiona ``CTRL``+``ENTER``):\n",
    "\n",
    "``\n",
    "library(tidyverse)\n",
    "``\n",
    "\n",
    "``\n",
    "mi_data = data.frame(\"col1\"=runif(20,0,1), \"col2\"=runif(20,0,1))\n",
    "``\n",
    "\n",
    "``\n",
    "ggplot(data = mi_data) + geom_point(mapping=aes(x=col1,y=col2),color=\"red\")\n",
    "``\n",
    "\n",
    "Deberás obtener una gráfica de puntos rojos.\n",
    "![imagenes](im05.png)"
   ]
  }
 ],
 "metadata": {
  "kernelspec": {
   "display_name": "R",
   "language": "R",
   "name": "ir"
  },
  "language_info": {
   "codemirror_mode": "r",
   "file_extension": ".r",
   "mimetype": "text/x-r-source",
   "name": "R",
   "pygments_lexer": "r",
   "version": "3.6.1"
  }
 },
 "nbformat": 4,
 "nbformat_minor": 5
}
