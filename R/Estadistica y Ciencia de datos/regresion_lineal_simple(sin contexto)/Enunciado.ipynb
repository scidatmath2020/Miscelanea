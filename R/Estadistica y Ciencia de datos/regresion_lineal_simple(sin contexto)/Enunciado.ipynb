{
 "cells": [
  {
   "cell_type": "markdown",
   "metadata": {},
   "source": [
    "![imagenes](logo.png)"
   ]
  },
  {
   "cell_type": "markdown",
   "metadata": {},
   "source": [
    "# Enunciado\n",
    "\n",
    "Determine el coeficiente de correlación muestral y valore la regresión lineal realizada:\n",
    "\n",
    "X|Y\n",
    ":--:|:--:\n",
    "-2|40\n",
    "0|35\n",
    "5|30\n",
    "9|25\n",
    "15|20\n",
    "20|15\n"
   ]
  }
 ],
 "metadata": {
  "kernelspec": {
   "display_name": "R",
   "language": "R",
   "name": "ir"
  },
  "language_info": {
   "codemirror_mode": "r",
   "file_extension": ".r",
   "mimetype": "text/x-r-source",
   "name": "R",
   "pygments_lexer": "r",
   "version": "3.6.1"
  }
 },
 "nbformat": 4,
 "nbformat_minor": 4
}
