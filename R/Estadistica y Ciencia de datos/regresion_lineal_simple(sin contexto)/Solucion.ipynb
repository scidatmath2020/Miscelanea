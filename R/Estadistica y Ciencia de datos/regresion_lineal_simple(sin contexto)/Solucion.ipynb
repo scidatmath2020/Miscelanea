{
 "cells": [
  {
   "cell_type": "markdown",
   "metadata": {},
   "source": [
    "![imagenes](logo.png)"
   ]
  },
  {
   "cell_type": "markdown",
   "metadata": {},
   "source": [
    "# Enunciado\n",
    "\n",
    "Determine el coeficiente de correlación muestral y valore la regresión lineal realizada:\n",
    "\n",
    "X|Y\n",
    ":--:|:--:\n",
    "-2|40\n",
    "0|35\n",
    "5|30\n",
    "9|25\n",
    "15|20\n",
    "20|15"
   ]
  },
  {
   "cell_type": "markdown",
   "metadata": {},
   "source": [
    "---\n",
    "\n",
    "# Solución\n",
    "\n",
    "Haremos la regresión lineal basada en nuestra [guía de regresiones](https://nbviewer.org/github/scidatmath2020/Inferencia-Estad-stica-2022/blob/main/C09.4%20Regresi%C3%B3n%20lineal%20%28Gu%C3%ADa%20para%20hacer%20una%20buena%20regresi%C3%B3n%20lineal%29.ipynb) "
   ]
  },
  {
   "cell_type": "code",
   "execution_count": 46,
   "metadata": {},
   "outputs": [],
   "source": [
    "data = data.frame(X=c(-2,0,5,9,15,20),Y=c(40,35,30,25,20,15))"
   ]
  },
  {
   "cell_type": "code",
   "execution_count": 47,
   "metadata": {},
   "outputs": [
    {
     "data": {
      "text/html": [
       "<table>\n",
       "<thead><tr><th></th><th scope=col>X</th><th scope=col>Y</th></tr></thead>\n",
       "<tbody>\n",
       "\t<tr><th scope=row>X</th><td> 1.0000000</td><td>-0.9922331</td></tr>\n",
       "\t<tr><th scope=row>Y</th><td>-0.9922331</td><td> 1.0000000</td></tr>\n",
       "</tbody>\n",
       "</table>\n"
      ],
      "text/latex": [
       "\\begin{tabular}{r|ll}\n",
       "  & X & Y\\\\\n",
       "\\hline\n",
       "\tX &  1.0000000 & -0.9922331\\\\\n",
       "\tY & -0.9922331 &  1.0000000\\\\\n",
       "\\end{tabular}\n"
      ],
      "text/markdown": [
       "\n",
       "| <!--/--> | X | Y |\n",
       "|---|---|---|\n",
       "| X |  1.0000000 | -0.9922331 |\n",
       "| Y | -0.9922331 |  1.0000000 |\n",
       "\n"
      ],
      "text/plain": [
       "  X          Y         \n",
       "X  1.0000000 -0.9922331\n",
       "Y -0.9922331  1.0000000"
      ]
     },
     "metadata": {},
     "output_type": "display_data"
    }
   ],
   "source": [
    "cor(data)"
   ]
  },
  {
   "cell_type": "code",
   "execution_count": 48,
   "metadata": {},
   "outputs": [
    {
     "data": {
      "text/plain": [
       "\n",
       "Call:\n",
       "lm(formula = Y ~ X, data = data)\n",
       "\n",
       "Residuals:\n",
       "      1       2       3       4       5       6 \n",
       " 1.8446 -0.9882 -0.5702 -1.2358  0.2658  0.6838 \n",
       "\n",
       "Coefficients:\n",
       "            Estimate Std. Error t value Pr(>|t|)    \n",
       "(Intercept) 35.98819    0.75177   47.87 1.14e-06 ***\n",
       "X           -1.08360    0.06792  -15.95 9.03e-05 ***\n",
       "---\n",
       "Signif. codes:  0 '***' 0.001 '**' 0.01 '*' 0.05 '.' 0.1 ' ' 1\n",
       "\n",
       "Residual standard error: 1.301 on 4 degrees of freedom\n",
       "Multiple R-squared:  0.9845,\tAdjusted R-squared:  0.9807 \n",
       "F-statistic: 254.5 on 1 and 4 DF,  p-value: 9.025e-05\n"
      ]
     },
     "metadata": {},
     "output_type": "display_data"
    }
   ],
   "source": [
    "# Construimos el modelo\n",
    "resultado_regresion <- lm(Y~X,data=data)\n",
    "summary(resultado_regresion)"
   ]
  },
  {
   "cell_type": "markdown",
   "metadata": {},
   "source": [
    "Se observa que el modelo explica el 98.45% de la variabilidad de los datos."
   ]
  },
  {
   "cell_type": "code",
   "execution_count": 49,
   "metadata": {},
   "outputs": [
    {
     "data": {
      "text/plain": [
       "\n",
       "Title:\n",
       " Shapiro - Wilk Normality Test\n",
       "\n",
       "Test Results:\n",
       "  STATISTIC:\n",
       "    W: 0.9409\n",
       "  P VALUE:\n",
       "    0.6661 \n",
       "\n",
       "Description:\n",
       " Sun Oct 23 02:41:57 2022 by user: hp\n"
      ]
     },
     "metadata": {},
     "output_type": "display_data"
    }
   ],
   "source": [
    "#### Verificamos la normalidad de los residuos\n",
    "\n",
    "#library(fBasics)\n",
    "shapiroTest(resultado_regresion$residuals)"
   ]
  },
  {
   "cell_type": "markdown",
   "metadata": {},
   "source": [
    "Como el p-valor es grande, hay evidencia de que los residuos son gaussianos."
   ]
  },
  {
   "cell_type": "code",
   "execution_count": 50,
   "metadata": {},
   "outputs": [
    {
     "data": {
      "text/plain": [
       "\n",
       "\tstudentized Breusch-Pagan test\n",
       "\n",
       "data:  resultado_regresion\n",
       "BP = 2.5105, df = 1, p-value = 0.1131\n"
      ]
     },
     "metadata": {},
     "output_type": "display_data"
    }
   ],
   "source": [
    "#### Homocedasticidad de los residuos\n",
    "\n",
    "#library(lmtest)\n",
    "\n",
    "bptest(resultado_regresion)"
   ]
  },
  {
   "cell_type": "markdown",
   "metadata": {},
   "source": [
    "Como el p-valor es grande, hay evidencia de la homocedasticidad de los residuos"
   ]
  },
  {
   "cell_type": "code",
   "execution_count": 51,
   "metadata": {},
   "outputs": [
    {
     "data": {
      "image/png": "[encoded data removed]",
      "text/plain": [
       "plot without title"
      ]
     },
     "metadata": {},
     "output_type": "display_data"
    }
   ],
   "source": [
    "#### Verificamos la homocedasticidad gráficamente\n",
    "\n",
    "#library(ggplot2)\n",
    "\n",
    "ggplot(data = data, aes(resultado_regresion$fitted.values, resultado_regresion$residuals)) +\n",
    "    geom_point() +\n",
    "    geom_hline(yintercept = 0) +\n",
    "    theme_bw()"
   ]
  },
  {
   "cell_type": "code",
   "execution_count": 52,
   "metadata": {},
   "outputs": [
    {
     "data": {
      "text/plain": [
       " lag Autocorrelation D-W Statistic p-value\n",
       "   1      -0.1036152      1.635537   0.226\n",
       " Alternative hypothesis: rho != 0"
      ]
     },
     "metadata": {},
     "output_type": "display_data"
    }
   ],
   "source": [
    "#### Veremos si los residuos son independientes\n",
    "\n",
    "#library(car)\n",
    "\n",
    "dwt(resultado_regresion,alternative=\"two.sided\")"
   ]
  },
  {
   "cell_type": "markdown",
   "metadata": {},
   "source": [
    "Como el p-valor es grande, tenemos evidencia de que los residuos son independientes"
   ]
  },
  {
   "cell_type": "code",
   "execution_count": 53,
   "metadata": {},
   "outputs": [
    {
     "name": "stdout",
     "output_type": "stream",
     "text": [
      "           Test stat Pr(>|Test stat|)  \n",
      "X             1.8927          0.15473  \n",
      "Tukey test    1.8927          0.05839 .\n",
      "---\n",
      "Signif. codes:  0 '***' 0.001 '**' 0.01 '*' 0.05 '.' 0.1 ' ' 1\n"
     ]
    },
    {
     "data": {
      "image/png": "[encoded data removed]",
      "text/plain": [
       "plot without title"
      ]
     },
     "metadata": {},
     "output_type": "display_data"
    }
   ],
   "source": [
    "#### Veamos si el modelo es aditivo\n",
    "\n",
    "residualPlots(resultado_regresion,plot=TRUE)"
   ]
  },
  {
   "cell_type": "markdown",
   "metadata": {},
   "source": [
    "Dado que el p-valor cae en la zona crepuscular, definida como el intervalo [0.05,0.1], **no podemos decir si el modelo es o no aditivo**."
   ]
  },
  {
   "cell_type": "code",
   "execution_count": 54,
   "metadata": {},
   "outputs": [
    {
     "data": {
      "image/png": "[encoded data removed]",
      "text/plain": [
       "plot without title"
      ]
     },
     "metadata": {},
     "output_type": "display_data"
    }
   ],
   "source": [
    "# Veamos la linealidad del modelo\n",
    "\n",
    "crPlots(resultado_regresion)"
   ]
  },
  {
   "cell_type": "markdown",
   "metadata": {},
   "source": [
    "Se visualiza que el modelo sí es lineal."
   ]
  },
  {
   "cell_type": "code",
   "execution_count": 55,
   "metadata": {},
   "outputs": [
    {
     "data": {
      "text/html": [],
      "text/latex": [],
      "text/markdown": [],
      "text/plain": [
       "named integer(0)"
      ]
     },
     "metadata": {},
     "output_type": "display_data"
    }
   ],
   "source": [
    "#### Observaciones anómalas\n",
    "\n",
    "## Leverages\n",
    "\n",
    "which(hatvalues(resultado_regresion)>2*(1+1)/6)"
   ]
  },
  {
   "cell_type": "markdown",
   "metadata": {},
   "source": [
    "No hay leverages"
   ]
  },
  {
   "cell_type": "code",
   "execution_count": 56,
   "metadata": {},
   "outputs": [
    {
     "data": {
      "text/plain": [
       "No Studentized residuals with Bonferroni p < 0.05\n",
       "Largest |rstudent|:\n",
       "  rstudent unadjusted p-value Bonferroni p\n",
       "1 4.739981           0.017807      0.10684"
      ]
     },
     "metadata": {},
     "output_type": "display_data"
    }
   ],
   "source": [
    "## Outliers\n",
    "\n",
    "outlierTest(resultado_regresion)"
   ]
  },
  {
   "cell_type": "markdown",
   "metadata": {},
   "source": [
    "No hay outliers"
   ]
  },
  {
   "cell_type": "code",
   "execution_count": 57,
   "metadata": {},
   "outputs": [
    {
     "data": {
      "text/html": [],
      "text/latex": [],
      "text/markdown": [],
      "text/plain": [
       "named integer(0)"
      ]
     },
     "metadata": {},
     "output_type": "display_data"
    }
   ],
   "source": [
    "## Observaciones peligrosas\n",
    "\n",
    "which(cooks.distance(resultado_regresion)>4/(6-1-2))"
   ]
  },
  {
   "cell_type": "markdown",
   "metadata": {},
   "source": [
    "No hay observaciones peligrosas"
   ]
  },
  {
   "cell_type": "code",
   "execution_count": 58,
   "metadata": {},
   "outputs": [
    {
     "data": {
      "text/html": [
       "<table>\n",
       "<thead><tr><th></th><th scope=col>2.5 %</th><th scope=col>97.5 %</th></tr></thead>\n",
       "<tbody>\n",
       "\t<tr><th scope=row>(Intercept)</th><td>33.900931 </td><td>38.0754439</td></tr>\n",
       "\t<tr><th scope=row>X</th><td>-1.272184 </td><td>-0.8950131</td></tr>\n",
       "</tbody>\n",
       "</table>\n"
      ],
      "text/latex": [
       "\\begin{tabular}{r|ll}\n",
       "  & 2.5 \\% & 97.5 \\%\\\\\n",
       "\\hline\n",
       "\t(Intercept) & 33.900931  & 38.0754439\\\\\n",
       "\tX & -1.272184  & -0.8950131\\\\\n",
       "\\end{tabular}\n"
      ],
      "text/markdown": [
       "\n",
       "| <!--/--> | 2.5 % | 97.5 % |\n",
       "|---|---|---|\n",
       "| (Intercept) | 33.900931  | 38.0754439 |\n",
       "| X | -1.272184  | -0.8950131 |\n",
       "\n"
      ],
      "text/plain": [
       "            2.5 %     97.5 %    \n",
       "(Intercept) 33.900931 38.0754439\n",
       "X           -1.272184 -0.8950131"
      ]
     },
     "metadata": {},
     "output_type": "display_data"
    }
   ],
   "source": [
    "#### Estudiamos los intervalos de confianza para b0 y b1\n",
    "\n",
    "confint(resultado_regresion)"
   ]
  },
  {
   "cell_type": "code",
   "execution_count": 59,
   "metadata": {},
   "outputs": [
    {
     "data": {
      "text/plain": [
       "\n",
       "Call:\n",
       "lm(formula = Y ~ X, data = data)\n",
       "\n",
       "Residuals:\n",
       "      1       2       3       4       5       6 \n",
       " 1.8446 -0.9882 -0.5702 -1.2358  0.2658  0.6838 \n",
       "\n",
       "Coefficients:\n",
       "            Estimate Std. Error t value Pr(>|t|)    \n",
       "(Intercept) 35.98819    0.75177   47.87 1.14e-06 ***\n",
       "X           -1.08360    0.06792  -15.95 9.03e-05 ***\n",
       "---\n",
       "Signif. codes:  0 '***' 0.001 '**' 0.01 '*' 0.05 '.' 0.1 ' ' 1\n",
       "\n",
       "Residual standard error: 1.301 on 4 degrees of freedom\n",
       "Multiple R-squared:  0.9845,\tAdjusted R-squared:  0.9807 \n",
       "F-statistic: 254.5 on 1 and 4 DF,  p-value: 9.025e-05\n"
      ]
     },
     "metadata": {},
     "output_type": "display_data"
    }
   ],
   "source": [
    "#### Estudiamos la significación para b0 y b1\n",
    "summary(resultado_regresion)"
   ]
  },
  {
   "cell_type": "markdown",
   "metadata": {},
   "source": [
    "Observamos que la variable ``X`` es fuertemente significativa."
   ]
  },
  {
   "cell_type": "code",
   "execution_count": 60,
   "metadata": {},
   "outputs": [
    {
     "data": {
      "text/html": [
       "<table>\n",
       "<thead><tr><th scope=col>fit</th><th scope=col>lwr</th><th scope=col>upr</th></tr></thead>\n",
       "<tbody>\n",
       "\t<tr><td>-14.94094</td><td>-23.29422</td><td>-6.587651</td></tr>\n",
       "</tbody>\n",
       "</table>\n"
      ],
      "text/latex": [
       "\\begin{tabular}{r|lll}\n",
       " fit & lwr & upr\\\\\n",
       "\\hline\n",
       "\t -14.94094 & -23.29422 & -6.587651\\\\\n",
       "\\end{tabular}\n"
      ],
      "text/markdown": [
       "\n",
       "| fit | lwr | upr |\n",
       "|---|---|---|\n",
       "| -14.94094 | -23.29422 | -6.587651 |\n",
       "\n"
      ],
      "text/plain": [
       "  fit       lwr       upr      \n",
       "1 -14.94094 -23.29422 -6.587651"
      ]
     },
     "metadata": {},
     "output_type": "display_data"
    }
   ],
   "source": [
    "#### Realizamos la predicción para X=47\n",
    "\n",
    "newdata = data.frame(X=47)\n",
    "\n",
    "predict.lm(resultado_regresion,newdata,interval = \"prediction\",level = 0.95)"
   ]
  },
  {
   "cell_type": "code",
   "execution_count": 61,
   "metadata": {},
   "outputs": [
    {
     "name": "stderr",
     "output_type": "stream",
     "text": [
      "`geom_smooth()` using formula 'y ~ x'\n"
     ]
    },
    {
     "data": {
      "image/png": "[encoded data removed]",
      "text/plain": [
       "plot without title"
      ]
     },
     "metadata": {},
     "output_type": "display_data"
    }
   ],
   "source": [
    "#### Graficamos la regresión:\n",
    "\n",
    "ggplot(data=data,aes(x=X,y=Y)) +\n",
    "    geom_point() +\n",
    "    geom_smooth(method=\"lm\")"
   ]
  }
 ],
 "metadata": {
  "kernelspec": {
   "display_name": "R",
   "language": "R",
   "name": "ir"
  },
  "language_info": {
   "codemirror_mode": "r",
   "file_extension": ".r",
   "mimetype": "text/x-r-source",
   "name": "R",
   "pygments_lexer": "r",
   "version": "3.6.1"
  }
 },
 "nbformat": 4,
 "nbformat_minor": 4
}
