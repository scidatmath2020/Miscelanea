{
 "cells": [
  {
   "cell_type": "markdown",
   "metadata": {},
   "source": [
    "![imagenes](logo.png)\n",
    "\n",
    "# Filtrado para obtener las filas para las cuales el valor de una cierta columna no está duplicado\n",
    "\n",
    "Dado un dataframe con una columna especial, encontrar todas las filas cuyo valor de esa columna aparezca una sola vez.\n",
    "\n",
    "En concreto: de la siguiente tabla\n",
    "\n",
    "jugadores|matricula|torneo\n",
    ":-:|:-:|:-:\n",
    "Ronaldo|5896|Mundial\n",
    "Federer|1111|Wimbledon\n",
    "Phelps|3985|Juegos Olímpicos\n",
    "Valenzuela|1111|Juego de las estrellas\n",
    "\n",
    "al extraerse las filas cuyo valor de matrícula no está repetido deberás obtener la tabla\n",
    "\n",
    "jugadores|matricula|torneo\n",
    ":-:|:-:|:-:\n",
    "Ronaldo|5896|Mundial\n",
    "Phelps|3985|Juegos Olímpicos"
   ]
  },
  {
   "cell_type": "markdown",
   "metadata": {},
   "source": [
    "## Solución."
   ]
  },
  {
   "cell_type": "code",
   "execution_count": 3,
   "metadata": {},
   "outputs": [
    {
     "name": "stderr",
     "output_type": "stream",
     "text": [
      "Warning message:\n",
      "\"package 'tidyverse' was built under R version 3.6.3\"-- \u001b[1mAttaching packages\u001b[22m ------------------------------------------------------------------------------- tidyverse 1.3.1 --\n",
      "\u001b[32mv\u001b[39m \u001b[34mggplot2\u001b[39m 3.3.5     \u001b[32mv\u001b[39m \u001b[34mpurrr  \u001b[39m 0.3.4\n",
      "\u001b[32mv\u001b[39m \u001b[34mtibble \u001b[39m 3.1.1     \u001b[32mv\u001b[39m \u001b[34mdplyr  \u001b[39m 1.0.6\n",
      "\u001b[32mv\u001b[39m \u001b[34mtidyr  \u001b[39m 1.1.3     \u001b[32mv\u001b[39m \u001b[34mstringr\u001b[39m 1.4.0\n",
      "\u001b[32mv\u001b[39m \u001b[34mreadr  \u001b[39m 1.4.0     \u001b[32mv\u001b[39m \u001b[34mforcats\u001b[39m 0.5.1\n",
      "Warning message:\n",
      "\"package 'ggplot2' was built under R version 3.6.3\"Warning message:\n",
      "\"package 'tibble' was built under R version 3.6.3\"Warning message:\n",
      "\"package 'tidyr' was built under R version 3.6.3\"Warning message:\n",
      "\"package 'readr' was built under R version 3.6.3\"Warning message:\n",
      "\"package 'purrr' was built under R version 3.6.3\"Warning message:\n",
      "\"package 'dplyr' was built under R version 3.6.3\"Warning message:\n",
      "\"package 'stringr' was built under R version 3.6.3\"Warning message:\n",
      "\"package 'forcats' was built under R version 3.6.3\"-- \u001b[1mConflicts\u001b[22m ---------------------------------------------------------------------------------- tidyverse_conflicts() --\n",
      "\u001b[31mx\u001b[39m \u001b[34mdplyr\u001b[39m::\u001b[32mfilter()\u001b[39m masks \u001b[34mstats\u001b[39m::filter()\n",
      "\u001b[31mx\u001b[39m \u001b[34mdplyr\u001b[39m::\u001b[32mlag()\u001b[39m    masks \u001b[34mstats\u001b[39m::lag()\n"
     ]
    }
   ],
   "source": [
    "# Cargamos nuestras bibliotecas\n",
    "library(tidyverse)"
   ]
  },
  {
   "cell_type": "code",
   "execution_count": 1,
   "metadata": {},
   "outputs": [
    {
     "data": {
      "text/html": [
       "<table>\n",
       "<thead><tr><th scope=col>Jugadores</th><th scope=col>matricula</th><th scope=col>Torneo</th></tr></thead>\n",
       "<tbody>\n",
       "\t<tr><td>Ronaldo               </td><td>5896                  </td><td>Mundial               </td></tr>\n",
       "\t<tr><td>Federer               </td><td>1111                  </td><td>Wimbledon             </td></tr>\n",
       "\t<tr><td>Phelps                </td><td>3985                  </td><td>Juegos Olímpicos      </td></tr>\n",
       "\t<tr><td>Valenzuela            </td><td>1111                  </td><td>Juego de las estrellas</td></tr>\n",
       "</tbody>\n",
       "</table>\n"
      ],
      "text/latex": [
       "\\begin{tabular}{r|lll}\n",
       " Jugadores & matricula & Torneo\\\\\n",
       "\\hline\n",
       "\t Ronaldo                & 5896                   & Mundial               \\\\\n",
       "\t Federer                & 1111                   & Wimbledon             \\\\\n",
       "\t Phelps                 & 3985                   & Juegos Olímpicos      \\\\\n",
       "\t Valenzuela             & 1111                   & Juego de las estrellas\\\\\n",
       "\\end{tabular}\n"
      ],
      "text/markdown": [
       "\n",
       "| Jugadores | matricula | Torneo |\n",
       "|---|---|---|\n",
       "| Ronaldo                | 5896                   | Mundial                |\n",
       "| Federer                | 1111                   | Wimbledon              |\n",
       "| Phelps                 | 3985                   | Juegos Olímpicos       |\n",
       "| Valenzuela             | 1111                   | Juego de las estrellas |\n",
       "\n"
      ],
      "text/plain": [
       "  Jugadores  matricula Torneo                \n",
       "1 Ronaldo    5896      Mundial               \n",
       "2 Federer    1111      Wimbledon             \n",
       "3 Phelps     3985      Juegos Olímpicos      \n",
       "4 Valenzuela 1111      Juego de las estrellas"
      ]
     },
     "metadata": {},
     "output_type": "display_data"
    }
   ],
   "source": [
    "#Creamos el dataframe con el cual trabajaremos\n",
    "\n",
    "df1 = data.frame('Jugadores'= c(\"Ronaldo\",\"Federer\", \"Phelps\", \"Valenzuela\"),\n",
    "                 'matricula' = c('5896','1111','3985','1111'),\n",
    "                'Torneo'= c(\"Mundial\",\"Wimbledon\",\"Juegos Olímpicos\", \"Juego de las estrellas\"))\n",
    "    \n",
    "df1"
   ]
  },
  {
   "cell_type": "markdown",
   "metadata": {},
   "source": [
    "Buscamos ahora un método para devolvernos las filas cuya matrícula no se repite"
   ]
  },
  {
   "cell_type": "code",
   "execution_count": 4,
   "metadata": {},
   "outputs": [
    {
     "data": {
      "text/html": [
       "<table>\n",
       "<thead><tr><th scope=col>Jugadores</th><th scope=col>matricula</th><th scope=col>Torneo</th></tr></thead>\n",
       "<tbody>\n",
       "\t<tr><td>Ronaldo         </td><td>5896            </td><td>Mundial         </td></tr>\n",
       "\t<tr><td>Phelps          </td><td>3985            </td><td>Juegos Olímpicos</td></tr>\n",
       "</tbody>\n",
       "</table>\n"
      ],
      "text/latex": [
       "\\begin{tabular}{r|lll}\n",
       " Jugadores & matricula & Torneo\\\\\n",
       "\\hline\n",
       "\t Ronaldo          & 5896             & Mundial         \\\\\n",
       "\t Phelps           & 3985             & Juegos Olímpicos\\\\\n",
       "\\end{tabular}\n"
      ],
      "text/markdown": [
       "\n",
       "| Jugadores | matricula | Torneo |\n",
       "|---|---|---|\n",
       "| Ronaldo          | 5896             | Mundial          |\n",
       "| Phelps           | 3985             | Juegos Olímpicos |\n",
       "\n"
      ],
      "text/plain": [
       "  Jugadores matricula Torneo          \n",
       "1 Ronaldo   5896      Mundial         \n",
       "2 Phelps    3985      Juegos Olímpicos"
      ]
     },
     "metadata": {},
     "output_type": "display_data"
    }
   ],
   "source": [
    "df1 %>%\n",
    "    group_by(matricula) %>%\n",
    "    filter(n() == 1) %>%\n",
    "    ungroup()"
   ]
  }
 ],
 "metadata": {
  "kernelspec": {
   "display_name": "R",
   "language": "R",
   "name": "ir"
  },
  "language_info": {
   "codemirror_mode": "r",
   "file_extension": ".r",
   "mimetype": "text/x-r-source",
   "name": "R",
   "pygments_lexer": "r",
   "version": "3.6.1"
  }
 },
 "nbformat": 4,
 "nbformat_minor": 4
}
