{
 "cells": [
  {
   "cell_type": "markdown",
   "metadata": {},
   "source": [
    "<img src=\"logo.png\">"
   ]
  },
  {
   "cell_type": "markdown",
   "metadata": {},
   "source": [
    "# Confianza en las autoridades \n",
    "\n",
    "En la ENVIPE 2022, dentro de la tabla ``tper_vic.RData``, en las columnas ``AP5_3_X``, con ``X`` tomando los valores 01, 02, 03,..., 10, se le pregunta al encuestado si reconoce a la autoridad ``X``, donde las autoridades se indican más abajo.\n",
    "\n",
    "En caso de respuesta afirmativa (valor 1), se le procede a preguntar si considera que la autoridad ``X`` es o no corrupta, siendo 1 la respuesta \"Sí\".\n",
    "\n",
    "El problema consiste en, para cada autoridad, generar una gráfica del mapa político de México coloreando cada entidad mediante el porcentaje de personas que reconocen dicha autoridad y la consideran corrupta respecto del total del personas que la reconocen.\n",
    "\n",
    "**NOTA.** En Tlaxcala no existe autoridad de Tránsito Municipal, así como en Ciudad de México no existe autoridad de Policía Municipal."
   ]
  },
  {
   "cell_type": "code",
   "execution_count": null,
   "metadata": {},
   "outputs": [],
   "source": [
    "# Mostramos las autoridades por las cuales se pregunta a los encuestados\n",
    "descripcion_autoridades = c(\"Tránsito municipal\",\n",
    "                            \"Policía municipal\",\n",
    "                            \"Policía Estatal\",\n",
    "                            \"Guardia Nacional\",\n",
    "                            \"Policía Ministerial\",\n",
    "                            \"Ministerio_Público\\nFiscalías\",\n",
    "                            \"FGR\",\n",
    "                            \"Ejército\",\n",
    "                            \"Marina\",\n",
    "                            \"Jueces\")"
   ]
  },
  {
   "cell_type": "markdown",
   "metadata": {},
   "source": [
    "## Lectura de la tabla de interés\n",
    "\n",
    "Como primeros pasos, leemos la tabla de nuestro interés y la preparamos para comenzar a trabajar."
   ]
  },
  {
   "cell_type": "code",
   "execution_count": null,
   "metadata": {},
   "outputs": [],
   "source": [
    "# Cargamos nuestra paquetería.\n",
    "library(tidyverse)\n",
    "\n",
    "# Cargamos la tabla que contiene la información donde se encuentran las columnas de interés.\n",
    "load(\"tper_vic.RData\")\n",
    "\n",
    "# De la tabla cargada, seleccionamos únicamente las columnas de nuestro interés:\n",
    "##### CVE_ENT: clave de la entidad.\n",
    "##### Familia AP5_03_X: reconocimiento de la autoridad.\n",
    "##### Familia AP5_05_X: percepción de la autoridad acerca de la corrupción.\n",
    "##### FAC_ELE: factor de elección.\n",
    "\n",
    "corrupcion <- tper_vic %>% select(CVE_ENT,\n",
    "                                  starts_with(\"AP5_3\"),\n",
    "                                  starts_with(\"AP5_5\"),\n",
    "                                  FAC_ELE)"
   ]
  },
  {
   "cell_type": "markdown",
   "metadata": {},
   "source": [
    "## Estrategia de trabajo y creación de funciones auxiliares\n",
    "\n",
    "Para cada autoridad, extraeremos la subtabla formada por las columnas ``CVE_ENT``, ``AP5_03_X``, ``AP5_05_X`` y ``FAC_ELE``. Esto lo haremos con la función ``extraer()``, la cual se aplicará cada uno de los números del 2 al 11 (que son los índices de las columnas de reconocimiento dentro de la tabla ``corrupcion``), de modo que nos devolverá una lista con cada subtabla a la que llamaremos ``autoridades``.\n",
    "\n",
    "Por otra parte, crearemos una función que reciba como argumento cualquier tabla que contenga columnas ``reconocimiento``, ``corrupcion`` y ``FAC_ELE``, y nos diga el porcentaje de personas que consideran que hay corrupción dentro de las que reconozcan a la autoridad en cuestión. Esto lo haremos con la función ``resumen()``.\n",
    "\n",
    "Finalmente, mediante una función que reciba como argumento un número ``x`` del 1 al 10, tomaremos el elemento ``x`` de la lista ``autoridades``, lo agruparemos por entidad y aplicaremos la función ``resumen()`` a cada uno de los grupos, además de añadir una columna con el nombre de la autoridad en cuestión y cambiar el nombre de la columna ``CVE_ENT`` por ``ent`` (mas adelante veremos el porqué de cambiar este nombre). Esto lo haremos con la función ``calcular_por_autoridad``.\n",
    "\n",
    "De esta manera, obtendremos una lista a la que llamaremos ``tablas_autoridades`` formada por 10 tablas: una por cada autoridad, y en donde cada tabla contiene una columna ``ent`` con los números del 1 al 32, el porcentaje de personas que piensan que la autoridad en cuestión es corrupta, y el nombre de la autoridad en cuestión. Finalmente, pegaremos las 10 tablas verticalmente."
   ]
  },
  {
   "cell_type": "code",
   "execution_count": null,
   "metadata": {},
   "outputs": [],
   "source": [
    "extraer <- function(x){\n",
    "    auxiliar = corrupcion[,c(1,x,x+10,22)]\n",
    "    names(auxiliar)[2:3] = c(\"reconocimiento\",\"corrupcion\")\n",
    "    return(auxiliar)\n",
    "}\n",
    "\n",
    "autoridades <- lapply(2:11,extraer)"
   ]
  },
  {
   "cell_type": "code",
   "execution_count": null,
   "metadata": {},
   "outputs": [],
   "source": [
    "resumen  <- function(tabla){ \n",
    "    auxiliar = tabla %>% \n",
    "        filter(reconocimiento == 1) %>%\n",
    "        mutate(corrupcion = ifelse(corrupcion==1,1,0)) %>%\n",
    "        summarize(porcentaje_corrupcion = sum(corrupcion*FAC_ELE)*100/sum(FAC_ELE))\n",
    "    return(auxiliar)\n",
    "}"
   ]
  },
  {
   "cell_type": "code",
   "execution_count": null,
   "metadata": {},
   "outputs": [],
   "source": [
    "estatal_calcular_por_autoridad <- function(x){\n",
    "    autoridades[[x]] %>% \n",
    "        group_by(CVE_ENT) %>% \n",
    "        resumen() %>%\n",
    "        ungroup() %>%\n",
    "        mutate(autoridad = descripcion_autoridades[x]) %>%\n",
    "        rename(ent=CVE_ENT)\n",
    "}"
   ]
  },
  {
   "cell_type": "code",
   "execution_count": null,
   "metadata": {},
   "outputs": [],
   "source": [
    "estatal_tablas_autoridades = lapply(1:10,estatal_calcular_por_autoridad)\n",
    "estatal_tabla_corrupcion_final = do.call(rbind,estatal_tablas_autoridades)"
   ]
  },
  {
   "cell_type": "markdown",
   "metadata": {},
   "source": [
    "## Armado del dataframe para graficar\n",
    "\n",
    "Leeremos la información que requerimos para hacer cada mapa. Esta la tenemos en la tabla ``Mexico_division_politica.csv``. En su columna ``Grupo`` tenemos un número con decimales, donde la parte entera representa a la entidad a la que las coordenadas ``Latitud`` y ``Longitud`` pertenecen. Crearemos una nueva tabla llamada ``mex`` que incluya, además de toda la información de ``Mexico_division_politica.csv``, una columna ``ent`` con la entidad a la cual pertenecen las coordenadas.\n",
    "\n",
    "Posteriormente, crearemos una tabla llamada ``mapa`` llevando la información de la tabla ``tabla_corrupción_final`` hacia la tabla ``mex`` mediante las columnas ``ent`` de ambas, de modo que ``mapa`` tendrá las coordenadas geográficas, la entidad a la que pertencen las coordenas, el porcentaje de percepción de corrupción y la autoridad a la que se refiere ese porcentaje."
   ]
  },
  {
   "cell_type": "code",
   "execution_count": null,
   "metadata": {},
   "outputs": [],
   "source": [
    "mexico_div <- read.csv(\"Mexico_division_politica.csv\")\n",
    "mex <- mexico_div %>% mutate(ent = as.integer(Grupo))\n",
    "mapa = left_join(mex,estatal_tabla_corrupcion_final)"
   ]
  },
  {
   "cell_type": "markdown",
   "metadata": {},
   "source": [
    "## Graficación\n",
    "\n",
    "Finalmente, graficamos coloreando cada entidad por el porcentaje de corrupción y faceteando por autoridad."
   ]
  },
  {
   "cell_type": "code",
   "execution_count": null,
   "metadata": {},
   "outputs": [],
   "source": [
    "ggplot() +\n",
    "  geom_polygon(data = mapa,\n",
    "               mapping = aes(x=Longitud,\n",
    "                                   y=Latitud,\n",
    "                                   group=Grupo,\n",
    "                                   fill=porcentaje_corrupcion),\n",
    "               size = .05) +\n",
    "  scale_fill_gradient(low = \"yellow\",\n",
    "                      high = \"darkred\",\n",
    "                      na.value = NA,\n",
    "                      name=\"Porcentaje de mayores de edad\\nque perciben corrupción en la autoridad\") +\n",
    "  coord_map(xlim=c(-117,-87),\n",
    "            ylim=c(14,32)) +\n",
    "  theme(legend.position=\"top\",\n",
    "    panel.background = element_rect(\"#202020\"), \n",
    "    panel.grid = element_blank(),\n",
    "    axis.title = element_blank(), \n",
    "    axis.text = element_blank(), \n",
    "    axis.ticks = element_blank()\n",
    "  ) +\n",
    "  facet_wrap(.~autoridad,ncol=5) "
   ]
  }
 ],
 "metadata": {
  "kernelspec": {
   "display_name": "R",
   "language": "R",
   "name": "ir"
  },
  "language_info": {
   "codemirror_mode": "r",
   "file_extension": ".r",
   "mimetype": "text/x-r-source",
   "name": "R",
   "pygments_lexer": "r",
   "version": "3.6.1"
  }
 },
 "nbformat": 4,
 "nbformat_minor": 4
}
